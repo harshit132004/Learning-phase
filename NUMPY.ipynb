{
 "cells": [
  {
   "cell_type": "code",
   "execution_count": 1,
   "id": "2067cda8",
   "metadata": {},
   "outputs": [
    {
     "name": "stdout",
     "output_type": "stream",
     "text": [
      "[2 3 4 5 6]\n",
      "<class 'numpy.ndarray'>\n"
     ]
    }
   ],
   "source": [
    "import numpy as np #an arry\n",
    "\n",
    "x=np.array([2,3,4,5,6])\n",
    "print(x)\n",
    "print((type)(x))"
   ]
  },
  {
   "cell_type": "code",
   "execution_count": 2,
   "id": "ce8d89fa",
   "metadata": {},
   "outputs": [
    {
     "name": "stdout",
     "output_type": "stream",
     "text": [
      "[2, 3, 4, 5, 6]\n",
      "<class 'list'>\n"
     ]
    }
   ],
   "source": [
    "y=[2,3,4,5,6] # a  list\n",
    "print(y)\n",
    "print(type(y))"
   ]
  },
  {
   "cell_type": "code",
   "execution_count": 3,
   "id": "ac02e0e4",
   "metadata": {},
   "outputs": [
    {
     "name": "stdout",
     "output_type": "stream",
     "text": [
      "2.98 µs ± 215 ns per loop (mean ± std. dev. of 7 runs, 100,000 loops each)\n"
     ]
    }
   ],
   "source": [
    "%timeit [(j**5) for j in range(1,11)]"
   ]
  },
  {
   "cell_type": "code",
   "execution_count": 4,
   "id": "5c6b3af7",
   "metadata": {},
   "outputs": [
    {
     "name": "stdout",
     "output_type": "stream",
     "text": [
      "4.05 µs ± 275 ns per loop (mean ± std. dev. of 7 runs, 100,000 loops each)\n"
     ]
    }
   ],
   "source": [
    "%timeit np.arange(1,11)**4\n"
   ]
  },
  {
   "cell_type": "markdown",
   "id": "a44f31d8",
   "metadata": {},
   "source": [
    "# ARRAY"
   ]
  },
  {
   "cell_type": "code",
   "execution_count": 5,
   "id": "547202ea",
   "metadata": {},
   "outputs": [
    {
     "name": "stdout",
     "output_type": "stream",
     "text": [
      "<class 'numpy.ndarray'>\n"
     ]
    },
    {
     "data": {
      "text/plain": [
       "array([1, 2, 3, 4])"
      ]
     },
     "execution_count": 5,
     "metadata": {},
     "output_type": "execute_result"
    }
   ],
   "source": [
    "x=[1,2,3,4]\n",
    "y=np.array(x)\n",
    "print(type(y))\n",
    "y"
   ]
  },
  {
   "cell_type": "code",
   "execution_count": 6,
   "id": "f2a5e29c",
   "metadata": {},
   "outputs": [
    {
     "name": "stdout",
     "output_type": "stream",
     "text": [
      "enter a number:1\n",
      "[1]\n"
     ]
    }
   ],
   "source": [
    "l=[]\n",
    "n=int(input(\"enter a number:\"))\n",
    "for i in range(1,(n+1)):\n",
    "    l.append(i)\n",
    "print(np.array(l))"
   ]
  },
  {
   "cell_type": "code",
   "execution_count": 7,
   "id": "d3f2a61e",
   "metadata": {},
   "outputs": [
    {
     "name": "stdout",
     "output_type": "stream",
     "text": [
      "enter a number:1\n",
      "[1]\n"
     ]
    }
   ],
   "source": [
    "l=[]\n",
    "n=int(input(\"enter a number:\"))\n",
    "for i in range(1,(n+1)):\n",
    "    l.append(i)\n",
    "print(np.array(l))"
   ]
  },
  {
   "cell_type": "code",
   "execution_count": 8,
   "id": "42783c82",
   "metadata": {},
   "outputs": [
    {
     "name": "stdout",
     "output_type": "stream",
     "text": [
      "How many numbers do you want to enter? 3\n",
      "Enter a number: 1\n",
      "Enter a number: 2\n",
      "Enter a number: 3\n",
      "[1 2 3]\n"
     ]
    }
   ],
   "source": [
    "n = int(input(\"How many numbers do you want to enter? \"))  # Ask the user how many numbers they want to input\n",
    "l = []  # Initialize an empty list\n",
    "\n",
    "for i in range(n):  # Loop 'n' times\n",
    "    number = int(input(\"Enter a number: \"))  # Prompt user to enter a number\n",
    "    l.append(number)  # Append the number to the list\n",
    "\n",
    "print(np.array(l))  # Convert the list to a NumPy array and print it\n"
   ]
  },
  {
   "cell_type": "markdown",
   "id": "ae766ccf",
   "metadata": {},
   "source": [
    "### ndim"
   ]
  },
  {
   "cell_type": "code",
   "execution_count": 9,
   "id": "bf6837d6",
   "metadata": {},
   "outputs": [
    {
     "name": "stdout",
     "output_type": "stream",
     "text": [
      "[2 3 4 5 6]\n",
      "<class 'numpy.ndarray'>\n",
      "1\n"
     ]
    }
   ],
   "source": [
    "x=np.array([2,3,4,5,6])\n",
    "print(x)\n",
    "print((type)(x))\n",
    "print(x.ndim)"
   ]
  },
  {
   "cell_type": "code",
   "execution_count": 10,
   "id": "0c9cd44d",
   "metadata": {},
   "outputs": [
    {
     "name": "stdout",
     "output_type": "stream",
     "text": [
      "[[1 2 3 4]\n",
      " [5 6 7 8]]\n",
      "2\n"
     ]
    }
   ],
   "source": [
    "to_d_ary=np.array([[1,2,3,4],[5,6,7,8]])\n",
    "print(to_d_ary)\n",
    "print(to_d_ary.ndim)"
   ]
  },
  {
   "cell_type": "code",
   "execution_count": 11,
   "id": "2b58d18a",
   "metadata": {},
   "outputs": [
    {
     "name": "stdout",
     "output_type": "stream",
     "text": [
      "[[[ 1  2  3  4]\n",
      "  [ 5  6  7  8]\n",
      "  [ 4  5  6 80]]]\n",
      "3\n"
     ]
    }
   ],
   "source": [
    "thre_d_ary=np.array([[[1,2,3,4],[5,6,7,8],[4,5,6,80]]])\n",
    "print(thre_d_ary)\n",
    "print(thre_d_ary.ndim)"
   ]
  },
  {
   "cell_type": "code",
   "execution_count": 12,
   "id": "76355ae8",
   "metadata": {},
   "outputs": [
    {
     "name": "stdout",
     "output_type": "stream",
     "text": [
      "[[[[[[[[[[1 2 3 4]]]]]]]]]]\n",
      "10\n"
     ]
    }
   ],
   "source": [
    "n_d_ary=np.array([1,2,3,4],ndmin=10)\n",
    "print(n_d_ary)\n",
    "print(n_d_ary.ndim)"
   ]
  },
  {
   "cell_type": "markdown",
   "id": "0a583008",
   "metadata": {},
   "source": [
    "# Types Of Array"
   ]
  },
  {
   "cell_type": "markdown",
   "id": "ac3dcf57",
   "metadata": {},
   "source": [
    "### ZEROS "
   ]
  },
  {
   "cell_type": "code",
   "execution_count": 13,
   "id": "369c35e7",
   "metadata": {},
   "outputs": [
    {
     "name": "stdout",
     "output_type": "stream",
     "text": [
      "[0. 0. 0. 0.]\n",
      " \n",
      "[[0. 0. 0. 0.]\n",
      " [0. 0. 0. 0.]\n",
      " [0. 0. 0. 0.]]\n"
     ]
    }
   ],
   "source": [
    "ar_zero=np.zeros(4)\n",
    "ar_zero1=np.zeros((3,4))\n",
    "\n",
    "print(ar_zero)\n",
    "print(\" \")\n",
    "print(ar_zero1)"
   ]
  },
  {
   "cell_type": "markdown",
   "id": "618cef93",
   "metadata": {},
   "source": [
    "### ONES"
   ]
  },
  {
   "cell_type": "code",
   "execution_count": 14,
   "id": "3abf8173",
   "metadata": {},
   "outputs": [
    {
     "name": "stdout",
     "output_type": "stream",
     "text": [
      "[1. 1. 1. 1.]\n",
      " \n",
      "[[1. 1. 1. 1.]\n",
      " [1. 1. 1. 1.]\n",
      " [1. 1. 1. 1.]]\n"
     ]
    }
   ],
   "source": [
    "ar_zero=np.ones(4)\n",
    "ar_zero1=np.ones((3,4))\n",
    "\n",
    "print(ar_zero)\n",
    "print(\" \")\n",
    "print(ar_zero1)"
   ]
  },
  {
   "cell_type": "markdown",
   "id": "5d3f29d3",
   "metadata": {},
   "source": [
    "### EMPTY"
   ]
  },
  {
   "cell_type": "code",
   "execution_count": 15,
   "id": "b2744ec1",
   "metadata": {},
   "outputs": [
    {
     "name": "stdout",
     "output_type": "stream",
     "text": [
      "[1. 1. 1. 1.]\n",
      " \n",
      "[[1. 1. 1. 1.]\n",
      " [1. 1. 1. 1.]\n",
      " [1. 1. 1. 1.]]\n"
     ]
    }
   ],
   "source": [
    "ar_zero=np.empty(4)\n",
    "ar_zero1=np.empty((3,4))\n",
    "\n",
    "print(ar_zero)\n",
    "print(\" \")\n",
    "print(ar_zero1)"
   ]
  },
  {
   "cell_type": "markdown",
   "id": "a66f33de",
   "metadata": {},
   "source": [
    "### RANGE"
   ]
  },
  {
   "cell_type": "code",
   "execution_count": 16,
   "id": "6ec12b5d",
   "metadata": {},
   "outputs": [
    {
     "name": "stdout",
     "output_type": "stream",
     "text": [
      "[0 1 2 3]\n"
     ]
    }
   ],
   "source": [
    "ar_zero=np.arange(4)\n",
    "\n",
    "\n",
    "print(ar_zero)\n"
   ]
  },
  {
   "cell_type": "code",
   "execution_count": 17,
   "id": "709eca01",
   "metadata": {},
   "outputs": [
    {
     "name": "stdout",
     "output_type": "stream",
     "text": [
      "[[1. 0. 0.]\n",
      " [0. 1. 0.]\n",
      " [0. 0. 1.]]\n"
     ]
    }
   ],
   "source": [
    "ar_di=np.eye(3)\n",
    "print(ar_di)"
   ]
  },
  {
   "cell_type": "code",
   "execution_count": 18,
   "id": "88897000",
   "metadata": {},
   "outputs": [
    {
     "name": "stdout",
     "output_type": "stream",
     "text": [
      "[[1. 0. 0. 0. 0. 0.]\n",
      " [0. 1. 0. 0. 0. 0.]\n",
      " [0. 0. 1. 0. 0. 0.]\n",
      " [0. 0. 0. 1. 0. 0.]\n",
      " [0. 0. 0. 0. 1. 0.]\n",
      " [0. 0. 0. 0. 0. 1.]]\n"
     ]
    }
   ],
   "source": [
    "ar_di=np.eye(6)\n",
    "print(ar_di)"
   ]
  },
  {
   "cell_type": "markdown",
   "id": "6cc46f31",
   "metadata": {},
   "source": [
    "## linspace"
   ]
  },
  {
   "cell_type": "markdown",
   "id": "dbe4c6fc",
   "metadata": {},
   "source": [
    "ar_line=np.linspace(0,10,num=5)\n",
    "print(ar_line)"
   ]
  },
  {
   "cell_type": "markdown",
   "id": "e4435065",
   "metadata": {},
   "source": [
    "# CREATE NUMPAY ARRAY RANDOMLY"
   ]
  },
  {
   "cell_type": "markdown",
   "id": "f40d1b1f",
   "metadata": {},
   "source": [
    "## rand() between(0,1)"
   ]
  },
  {
   "cell_type": "code",
   "execution_count": 19,
   "id": "9cb57ecd",
   "metadata": {},
   "outputs": [
    {
     "name": "stdout",
     "output_type": "stream",
     "text": [
      "[0.93326045 0.55302046 0.2532249  0.10114078]\n"
     ]
    }
   ],
   "source": [
    "var=np.random.rand(4)\n",
    "print(var)"
   ]
  },
  {
   "cell_type": "code",
   "execution_count": 20,
   "id": "d3ec4007",
   "metadata": {},
   "outputs": [
    {
     "name": "stdout",
     "output_type": "stream",
     "text": [
      "[[0.23840946 0.13736441 0.31868137 0.73067912]\n",
      " [0.40306448 0.30275361 0.6542972  0.05031557]\n",
      " [0.06651392 0.83134776 0.72456119 0.83511895]\n",
      " [0.91014178 0.15388027 0.96393163 0.25868309]\n",
      " [0.37775523 0.55489854 0.37694533 0.49650264]\n",
      " [0.91493698 0.82718383 0.08298447 0.57053728]]\n"
     ]
    }
   ],
   "source": [
    "var1=np.random.rand(6,4)\n",
    "print(var1)"
   ]
  },
  {
   "cell_type": "markdown",
   "id": "055e82bb",
   "metadata": {},
   "source": [
    "## randn() both +ve and -ve "
   ]
  },
  {
   "cell_type": "code",
   "execution_count": 21,
   "id": "0ec2d169",
   "metadata": {},
   "outputs": [
    {
     "name": "stdout",
     "output_type": "stream",
     "text": [
      "[-0.78017306 -0.26245693 -0.10182382 -2.09209462 -0.37054583]\n"
     ]
    }
   ],
   "source": [
    "var=np.random.randn(5)\n",
    "print(var)"
   ]
  },
  {
   "cell_type": "markdown",
   "id": "e637b53b",
   "metadata": {},
   "source": [
    "## ranf() 1 is not included [0,1)"
   ]
  },
  {
   "cell_type": "code",
   "execution_count": 22,
   "id": "8eca7eff",
   "metadata": {},
   "outputs": [
    {
     "name": "stdout",
     "output_type": "stream",
     "text": [
      "[0.38718278 0.2210532  0.34626712 0.47258986 0.83511669 0.73516704]\n"
     ]
    }
   ],
   "source": [
    "var=np.random.ranf(6)\n",
    "print(var)"
   ]
  },
  {
   "cell_type": "markdown",
   "id": "0a0e2809",
   "metadata": {},
   "source": [
    "## randint()"
   ]
  },
  {
   "cell_type": "code",
   "execution_count": 23,
   "id": "4f0b483c",
   "metadata": {},
   "outputs": [
    {
     "name": "stdout",
     "output_type": "stream",
     "text": [
      "[8 9 8 5 7]\n"
     ]
    }
   ],
   "source": [
    "var=np.random.randint(4,10,5)\n",
    "print(var)"
   ]
  },
  {
   "cell_type": "code",
   "execution_count": 24,
   "id": "476db10d",
   "metadata": {},
   "outputs": [
    {
     "name": "stdout",
     "output_type": "stream",
     "text": [
      "8\n"
     ]
    }
   ],
   "source": [
    "var=np.random.randint(4,10)\n",
    "print(var)"
   ]
  },
  {
   "cell_type": "code",
   "execution_count": 25,
   "id": "926a06be",
   "metadata": {},
   "outputs": [
    {
     "name": "stdout",
     "output_type": "stream",
     "text": [
      "[9 7 4 6]\n"
     ]
    }
   ],
   "source": [
    "from random import randint \n",
    "var=np.random.randint(4,10,4)\n",
    "print(var)"
   ]
  },
  {
   "cell_type": "markdown",
   "id": "901e4447",
   "metadata": {},
   "source": [
    "# DATATYPE"
   ]
  },
  {
   "cell_type": "code",
   "execution_count": 26,
   "id": "282f9d8d",
   "metadata": {},
   "outputs": [
    {
     "name": "stdout",
     "output_type": "stream",
     "text": [
      "Data Type:int64\n"
     ]
    }
   ],
   "source": [
    "var=np.array([3,5,6,7,8,9,0])\n",
    "print(f\"Data Type:{var.dtype}\")"
   ]
  },
  {
   "cell_type": "code",
   "execution_count": 27,
   "id": "1c2eb965",
   "metadata": {},
   "outputs": [
    {
     "name": "stdout",
     "output_type": "stream",
     "text": [
      "Data Type:float64\n"
     ]
    }
   ],
   "source": [
    "var=np.array([3,5,6,7,8,9,0,8.89])\n",
    "print(f\"Data Type:{var.dtype}\")"
   ]
  },
  {
   "cell_type": "code",
   "execution_count": 28,
   "id": "ff842728",
   "metadata": {},
   "outputs": [
    {
     "name": "stdout",
     "output_type": "stream",
     "text": [
      "Data Type:<U32\n"
     ]
    }
   ],
   "source": [
    "var=np.array([3,5,6,7,8,9,0,8.89,\"=\",\"h\"])\n",
    "print(f\"Data Type:{var.dtype}\")"
   ]
  },
  {
   "cell_type": "code",
   "execution_count": 29,
   "id": "445c2710",
   "metadata": {},
   "outputs": [
    {
     "name": "stdout",
     "output_type": "stream",
     "text": [
      "Data Type:<U1\n"
     ]
    }
   ],
   "source": [
    "var=np.array([\"h\",\".\",\">\"])\n",
    "print(f\"Data Type:{var.dtype}\")"
   ]
  },
  {
   "cell_type": "code",
   "execution_count": 30,
   "id": "2584cffb",
   "metadata": {},
   "outputs": [
    {
     "name": "stdout",
     "output_type": "stream",
     "text": [
      "Data Type:int64\n"
     ]
    }
   ],
   "source": [
    "y=np.array([1,2,3,4,5,6])\n",
    "print(f\"Data Type:{y.dtype}\")"
   ]
  },
  {
   "cell_type": "code",
   "execution_count": 31,
   "id": "45243121",
   "metadata": {},
   "outputs": [
    {
     "name": "stdout",
     "output_type": "stream",
     "text": [
      "Data Type:int8\n"
     ]
    }
   ],
   "source": [
    "y=np.array([1,2,3,4,5,6],dtype=np.int8)\n",
    "print(f\"Data Type:{y.dtype}\")"
   ]
  },
  {
   "cell_type": "code",
   "execution_count": 32,
   "id": "264f3dcf",
   "metadata": {},
   "outputs": [
    {
     "name": "stdout",
     "output_type": "stream",
     "text": [
      "Data Type:float32\n"
     ]
    }
   ],
   "source": [
    "y=np.array([1,2,3,4,5,6],dtype=\"f\")\n",
    "print(f\"Data Type:{y.dtype}\")"
   ]
  },
  {
   "cell_type": "code",
   "execution_count": 33,
   "id": "978995de",
   "metadata": {},
   "outputs": [
    {
     "name": "stdout",
     "output_type": "stream",
     "text": [
      "Data Type:float32\n"
     ]
    }
   ],
   "source": [
    "y=np.array([1,2,3,4,5,6],dtype=np.float32)\n",
    "print(f\"Data Type:{y.dtype}\")"
   ]
  },
  {
   "cell_type": "code",
   "execution_count": 34,
   "id": "4a26d9ab",
   "metadata": {},
   "outputs": [
    {
     "name": "stdout",
     "output_type": "stream",
     "text": [
      "Data Type:int64\n",
      "Data Type:float16\n",
      "[1 2 3 4 5 6]\n"
     ]
    }
   ],
   "source": [
    "y=np.array([1,2,3,4,5,6])\n",
    "\n",
    "new=np.float16(y)\n",
    "\n",
    "print(f\"Data Type:{y.dtype}\")\n",
    "print(f\"Data Type:{new.dtype}\")\n",
    "\n",
    "print(y)"
   ]
  },
  {
   "cell_type": "code",
   "execution_count": 35,
   "id": "989842a8",
   "metadata": {},
   "outputs": [
    {
     "name": "stdout",
     "output_type": "stream",
     "text": [
      "Data Type:int64\n",
      "Data Type:float16\n",
      "Data Type:complex128\n",
      "[1 2 3 4 5 6]\n",
      "[1. 2. 3. 4. 5. 6.]\n",
      "[1.+0.j 2.+0.j 3.+0.j 4.+0.j 5.+0.j 6.+0.j]\n"
     ]
    }
   ],
   "source": [
    "y=np.array([1,2,3,4,5,6])\n",
    "\n",
    "new=np.float16(y)\n",
    "new_one=np.complex128(new)\n",
    "\n",
    "print(f\"Data Type:{y.dtype}\")\n",
    "print(f\"Data Type:{new.dtype}\")\n",
    "print(f\"Data Type:{new_one.dtype}\")\n",
    "\n",
    "print(y)\n",
    "print(new)\n",
    "print(new_one)"
   ]
  },
  {
   "cell_type": "code",
   "execution_count": 36,
   "id": "2b58237e",
   "metadata": {},
   "outputs": [
    {
     "name": "stdout",
     "output_type": "stream",
     "text": [
      "[1 2 3 4 5 6]\n",
      "[1. 2. 3. 4. 5. 6.]\n"
     ]
    }
   ],
   "source": [
    "y=np.array([1,2,3,4,5,6])\n",
    "\n",
    "x=y.astype(float)\n",
    "\n",
    "print(y)\n",
    "print(x)"
   ]
  },
  {
   "cell_type": "markdown",
   "id": "64db82ec",
   "metadata": {},
   "source": [
    "## SHAPE AND RESHAPE"
   ]
  },
  {
   "cell_type": "code",
   "execution_count": 37,
   "id": "e9c2dfc0",
   "metadata": {},
   "outputs": [
    {
     "name": "stdout",
     "output_type": "stream",
     "text": [
      "[[1 2 3]\n",
      " [4 5 6]]\n",
      "\n",
      "(2, 3)\n"
     ]
    }
   ],
   "source": [
    "var=np.array([[1,2,3],[4,5,6]])\n",
    "\n",
    "print(var)\n",
    "print(\"\")\n",
    "\n",
    "print(var.shape)\n"
   ]
  },
  {
   "cell_type": "code",
   "execution_count": 38,
   "id": "2202b2fa",
   "metadata": {},
   "outputs": [
    {
     "name": "stdout",
     "output_type": "stream",
     "text": [
      "[[[[[[1 2 3 4]]]]]] \n",
      " 6\n",
      "(1, 1, 1, 1, 1, 4)\n"
     ]
    }
   ],
   "source": [
    "var_1=np.array([1,2,3,4],ndmin=6)\n",
    "\n",
    "print(var_1,\"\\n\",var_1.ndim)\n",
    "\n",
    "print(var_1.shape)"
   ]
  },
  {
   "cell_type": "code",
   "execution_count": 39,
   "id": "fadff824",
   "metadata": {},
   "outputs": [
    {
     "name": "stdout",
     "output_type": "stream",
     "text": [
      "[1 2 3 4 6 5 7 8]\n",
      "\n",
      "1\n",
      "\n",
      "[[1 2]\n",
      " [3 4]\n",
      " [6 5]\n",
      " [7 8]]\n",
      "\n",
      "2\n"
     ]
    }
   ],
   "source": [
    "var_2=np.array([1,2,3,4,6,5,7,8])\n",
    "print(var_2)\n",
    "print(\"\")\n",
    "print(var_2.ndim)\n",
    "print(\"\")\n",
    "\n",
    "x=var_2.reshape(4,2)\n",
    "\n",
    "print(x)\n",
    "print(\"\")\n",
    "print(x.ndim)"
   ]
  },
  {
   "cell_type": "code",
   "execution_count": 40,
   "id": "c6d2deb2",
   "metadata": {},
   "outputs": [
    {
     "name": "stdout",
     "output_type": "stream",
     "text": [
      "[ 1  2  3  4  6  5  7  8  9 10 11 12]\n",
      "\n",
      "1\n",
      "\n",
      "[[[ 1  2  3]\n",
      "  [ 4  6  5]]\n",
      "\n",
      " [[ 7  8  9]\n",
      "  [10 11 12]]]\n",
      "\n",
      "3\n"
     ]
    }
   ],
   "source": [
    "var_2=np.array([1,2,3,4,6,5,7,8,9,10,11,12])\n",
    "print(var_2)\n",
    "print(\"\")\n",
    "print(var_2.ndim)\n",
    "print(\"\")\n",
    "\n",
    "x=var_2.reshape(2,2,3) #2 blocks, each containing 2 rows and 3 columns\n",
    "\n",
    "print(x)\n",
    "print(\"\")\n",
    "print(x.ndim)"
   ]
  },
  {
   "cell_type": "code",
   "execution_count": 41,
   "id": "a57c43df",
   "metadata": {},
   "outputs": [
    {
     "name": "stdout",
     "output_type": "stream",
     "text": [
      "[ 1  2  3  4  6  5  7  8  9 10 11 12]\n",
      "\n",
      "1\n",
      "\n",
      "[[[ 1  2  3]\n",
      "  [ 4  6  5]]\n",
      "\n",
      " [[ 7  8  9]\n",
      "  [10 11 12]]]\n",
      "\n",
      "3\n",
      "\n",
      "[ 1  2  3  4  6  5  7  8  9 10 11 12]\n",
      "\n",
      "1\n"
     ]
    }
   ],
   "source": [
    "var_2=np.array([1,2,3,4,6,5,7,8,9,10,11,12])\n",
    "print(var_2)\n",
    "print(\"\")\n",
    "print(var_2.ndim)\n",
    "print(\"\")\n",
    "\n",
    "x=var_2.reshape(2,2,3) #2 blocks, each containing 2 rows and 3 columns\n",
    "\n",
    "print(x)\n",
    "print(\"\")\n",
    "print(x.ndim)\n",
    "\n",
    "print(\"\")\n",
    "\n",
    "y=x.reshape(-1)\n",
    "print(y)\n",
    "print(\"\")\n",
    "print(y.ndim)"
   ]
  },
  {
   "cell_type": "markdown",
   "id": "455b3c04",
   "metadata": {},
   "source": [
    "# ARITHMATIC OPERATION"
   ]
  },
  {
   "cell_type": "markdown",
   "id": "1f0d33f0",
   "metadata": {},
   "source": [
    "### (A+B) , (A-B) , (A*B) , (A/B) , (A**B) ,  (1/A,reciprocal)"
   ]
  },
  {
   "cell_type": "code",
   "execution_count": 53,
   "id": "2e9cf896",
   "metadata": {},
   "outputs": [
    {
     "name": "stdout",
     "output_type": "stream",
     "text": [
      "[ 7  7  8 13]\n",
      "[5 6 7 8]\n"
     ]
    }
   ],
   "source": [
    "var=np.array([1,2,3,4])\n",
    "var2=np.array([6,5,5,9])\n",
    "\n",
    "varadd1=var+var2\n",
    "varadd=var+4\n",
    "\n",
    "print(varadd1)\n",
    "print(varadd)"
   ]
  },
  {
   "cell_type": "code",
   "execution_count": 54,
   "id": "df115ea9",
   "metadata": {},
   "outputs": [
    {
     "name": "stdout",
     "output_type": "stream",
     "text": [
      "[-3 -2 -1  0]\n",
      "[-5 -3 -2 -5]\n"
     ]
    }
   ],
   "source": [
    "var=np.array([1,2,3,4])\n",
    "var2=np.array([6,5,5,9])\n",
    "\n",
    "varadd1=var-var2\n",
    "varadd=var-4\n",
    "\n",
    "print(varadd)\n",
    "print(varadd1)"
   ]
  },
  {
   "cell_type": "code",
   "execution_count": 55,
   "id": "0f362160",
   "metadata": {},
   "outputs": [
    {
     "name": "stdout",
     "output_type": "stream",
     "text": [
      "[ 6 10 15 36]\n",
      "[ 4  8 12 16]\n"
     ]
    }
   ],
   "source": [
    "var=np.array([1,2,3,4])\n",
    "var2=np.array([6,5,5,9])\n",
    "\n",
    "varadd1=var*var2\n",
    "varadd=var*4\n",
    "\n",
    "print(varadd1)\n",
    "print(varadd)"
   ]
  },
  {
   "cell_type": "code",
   "execution_count": 56,
   "id": "1f587971",
   "metadata": {},
   "outputs": [
    {
     "name": "stdout",
     "output_type": "stream",
     "text": [
      "[0.16666667 0.4        0.6        0.44444444]\n",
      "[0.25 0.5  0.75 1.  ]\n"
     ]
    }
   ],
   "source": [
    "var=np.array([1,2,3,4])\n",
    "var2=np.array([6,5,5,9])\n",
    "\n",
    "varadd1=var/var2\n",
    "varadd=var/4\n",
    "\n",
    "print(varadd1)\n",
    "print(varadd)"
   ]
  },
  {
   "cell_type": "code",
   "execution_count": 59,
   "id": "e1d3a7bb",
   "metadata": {},
   "outputs": [
    {
     "name": "stdout",
     "output_type": "stream",
     "text": [
      "[     1     32    243 262144]\n",
      "[ 1  4  9 16]\n"
     ]
    }
   ],
   "source": [
    "var=np.array([1,2,3,4])\n",
    "var2=np.array([6,5,5,9])\n",
    "\n",
    "varadd1=var**var2\n",
    "varadd=var**2\n",
    "\n",
    "print(varadd1)\n",
    "print(varadd)"
   ]
  },
  {
   "cell_type": "code",
   "execution_count": 60,
   "id": "be04effd",
   "metadata": {},
   "outputs": [
    {
     "name": "stdout",
     "output_type": "stream",
     "text": [
      "[1 2 3 4]\n",
      "[1 2 3 0]\n"
     ]
    }
   ],
   "source": [
    "var=np.array([1,2,3,4])\n",
    "var2=np.array([6,5,5,9])\n",
    "\n",
    "varadd1=var%var2\n",
    "varadd=var%4\n",
    "\n",
    "print(varadd1)\n",
    "print(varadd)"
   ]
  },
  {
   "cell_type": "code",
   "execution_count": 64,
   "id": "aba03de5",
   "metadata": {},
   "outputs": [
    {
     "name": "stdout",
     "output_type": "stream",
     "text": [
      "[1 2 3]\n"
     ]
    }
   ],
   "source": [
    "var2=np.array([1,2,3])\n",
    "s=var2%4\n",
    "print(s)"
   ]
  },
  {
   "cell_type": "markdown",
   "id": "859d8ef6",
   "metadata": {},
   "source": [
    "## for 2d array"
   ]
  },
  {
   "cell_type": "code",
   "execution_count": 65,
   "id": "f6961bc6",
   "metadata": {},
   "outputs": [
    {
     "name": "stdout",
     "output_type": "stream",
     "text": [
      "[[2 4 6 8]\n",
      " [2 4 6 8]]\n"
     ]
    }
   ],
   "source": [
    "variable_1=np.array([[1,2,3,4],[1,2,3,4]])\n",
    "variable_2=np.array([[1,2,3,4],[1,2,3,4]])\n",
    "\n",
    "variable_calculation=variable_1+variable_2\n",
    "\n",
    "print(variable_calculation)\n"
   ]
  },
  {
   "cell_type": "code",
   "execution_count": 66,
   "id": "67e6a1e7",
   "metadata": {},
   "outputs": [
    {
     "name": "stdout",
     "output_type": "stream",
     "text": [
      "[[0 0 0 0]\n",
      " [0 0 0 0]]\n"
     ]
    }
   ],
   "source": [
    "variable_1=np.array([[1,2,3,4],[1,2,3,4]])\n",
    "variable_2=np.array([[1,2,3,4],[1,2,3,4]])\n",
    "\n",
    "variable_calculation=variable_1-variable_2\n",
    "\n",
    "print(variable_calculation)\n"
   ]
  },
  {
   "cell_type": "code",
   "execution_count": 67,
   "id": "b9648028",
   "metadata": {},
   "outputs": [
    {
     "name": "stdout",
     "output_type": "stream",
     "text": [
      "[[ 1  4  9 16]\n",
      " [ 1  4  9 16]]\n"
     ]
    }
   ],
   "source": [
    "variable_1=np.array([[1,2,3,4],[1,2,3,4]])\n",
    "variable_2=np.array([[1,2,3,4],[1,2,3,4]])\n",
    "\n",
    "variable_calculation=variable_1*variable_2\n",
    "\n",
    "print(variable_calculation)\n"
   ]
  },
  {
   "cell_type": "code",
   "execution_count": 68,
   "id": "4c76717c",
   "metadata": {},
   "outputs": [
    {
     "name": "stdout",
     "output_type": "stream",
     "text": [
      "[[1. 1. 1. 1.]\n",
      " [1. 1. 1. 1.]]\n"
     ]
    }
   ],
   "source": [
    "variable_1=np.array([[1,2,3,4],[1,2,3,4]])\n",
    "variable_2=np.array([[1,2,3,4],[1,2,3,4]])\n",
    "\n",
    "variable_calculation=variable_1/variable_2\n",
    "\n",
    "print(variable_calculation)\n"
   ]
  },
  {
   "cell_type": "code",
   "execution_count": 69,
   "id": "fd4cae42",
   "metadata": {},
   "outputs": [
    {
     "name": "stdout",
     "output_type": "stream",
     "text": [
      "[[0 0 0 0]\n",
      " [0 0 0 0]]\n"
     ]
    }
   ],
   "source": [
    "variable_1=np.array([[1,2,3,4],[1,2,3,4]])\n",
    "variable_2=np.array([[1,2,3,4],[1,2,3,4]])\n",
    "\n",
    "variable_calculation=variable_1%variable_2\n",
    "\n",
    "print(variable_calculation)\n"
   ]
  },
  {
   "cell_type": "code",
   "execution_count": 70,
   "id": "84f902a1",
   "metadata": {},
   "outputs": [
    {
     "name": "stdout",
     "output_type": "stream",
     "text": [
      "[[  1   4  27 256]\n",
      " [  1   4  27 256]]\n"
     ]
    }
   ],
   "source": [
    "variable_1=np.array([[1,2,3,4],[1,2,3,4]])\n",
    "variable_2=np.array([[1,2,3,4],[1,2,3,4]])\n",
    "\n",
    "variable_calculation=variable_1**variable_2\n",
    "\n",
    "print(variable_calculation)\n"
   ]
  },
  {
   "cell_type": "code",
   "execution_count": 75,
   "id": "c0881b0e",
   "metadata": {},
   "outputs": [
    {
     "name": "stdout",
     "output_type": "stream",
     "text": [
      "Reciprocal of variable_1:\n",
      "[[1.         0.5        0.33333333 0.25      ]\n",
      " [1.         0.5        0.33333333 0.25      ]]\n",
      "\n",
      "Reciprocal of variable_2:\n",
      "[[1.         0.5        0.33333333 0.25      ]\n",
      " [1.         0.5        0.33333333 0.25      ]]\n"
     ]
    }
   ],
   "source": [
    "variable_1=np.array([[1,2,3,4],[1,2,3,4]])\n",
    "variable_2=np.array([[1,2,3,4],[1,2,3,4]])\n",
    "\n",
    "reciprocal_1 = 1 / variable_1\n",
    "reciprocal_2 = 1 / variable_2\n",
    "\n",
    "\n",
    "print(\"Reciprocal of variable_1:\")\n",
    "print(reciprocal_1)\n",
    "\n",
    "print(\"\\nReciprocal of variable_2:\")\n",
    "print(reciprocal_2)\n",
    "\n"
   ]
  },
  {
   "cell_type": "code",
   "execution_count": 96,
   "id": "3c6e33b5",
   "metadata": {},
   "outputs": [
    {
     "name": "stdout",
     "output_type": "stream",
     "text": [
      "Reciprocal of variable_1:\n",
      "[[1.         0.5        0.33333333 0.25      ]\n",
      " [1.         0.5        0.33333333 0.25      ]]\n",
      "\n",
      "Reciprocal of variable_2:\n",
      "[[1.         0.5        0.33333333 0.25      ]\n",
      " [1.         0.5        0.33333333 0.25      ]]\n",
      "\n",
      "Combined Reciprocal:\n",
      "[[[1.         0.5        0.33333333 0.25      ]\n",
      "  [1.         0.5        0.33333333 0.25      ]]\n",
      "\n",
      " [[1.         0.5        0.33333333 0.25      ]\n",
      "  [1.         0.5        0.33333333 0.25      ]]]\n"
     ]
    }
   ],
   "source": [
    "import numpy as np\n",
    "\n",
    "# Creating the arrays\n",
    "variable_1 = np.array([[1, 2, 3, 4], [1, 2, 3, 4]])\n",
    "variable_2 = np.array([[1, 2, 3, 4], [1, 2, 3, 4]])\n",
    "\n",
    "# Finding the reciprocal\n",
    "reciprocal_1 = 1 / variable_1\n",
    "reciprocal_2 = 1 / variable_2\n",
    "\n",
    "# Printing the results\n",
    "print(\"Reciprocal of variable_1:\")\n",
    "print(reciprocal_1)\n",
    "\n",
    "print(\"\\nReciprocal of variable_2:\")\n",
    "print(reciprocal_2)\n",
    "\n",
    "# Combining the results into a single array\n",
    "combined_reciprocal = np.stack((reciprocal_1, reciprocal_2))\n",
    "print(\"\\nCombined Reciprocal:\")\n",
    "print(combined_reciprocal)\n",
    "\n"
   ]
  },
  {
   "cell_type": "code",
   "execution_count": 106,
   "id": "a46dc61e",
   "metadata": {},
   "outputs": [
    {
     "name": "stdout",
     "output_type": "stream",
     "text": [
      "Combined Reciprocal:\n",
      "[[1.         0.5        0.33333333 0.25      ]\n",
      " [1.         0.5        0.33333333 0.25      ]]\n",
      "\n",
      "[[1.         0.5        0.33333333 0.25      ]\n",
      " [1.         0.5        0.33333333 0.25      ]]\n",
      "\n"
     ]
    }
   ],
   "source": [
    "import numpy as np\n",
    "\n",
    "variable_1 = np.array([[1, 2, 3, 4], [1, 2, 3, 4]])\n",
    "variable_2 = np.array([[1, 2, 3, 4], [1, 2, 3, 4]])\n",
    "\n",
    "reciprocal_1 = 1 / variable_1\n",
    "reciprocal_2 = 1 / variable_2\n",
    "\n",
    "combined_reciprocal = [reciprocal_1, reciprocal_2]\n",
    "\n",
    "print(\"Combined Reciprocal:\")\n",
    "for reciprocal in combined_reciprocal:\n",
    "    print(reciprocal)\n",
    "    print()  # Prints an empty line for better readability\n",
    "\n"
   ]
  },
  {
   "cell_type": "code",
   "execution_count": 107,
   "id": "15ad6493",
   "metadata": {},
   "outputs": [
    {
     "name": "stdout",
     "output_type": "stream",
     "text": [
      "min:1,3\n",
      "max:4,0\n"
     ]
    }
   ],
   "source": [
    "var=np.array([1,2,3,4])\n",
    "\n",
    "print(f\"min:{min(var)},{np.argmax(var)}\")\n",
    "print(f\"max:{max(var)},{np.argmin(var)}\")\n",
    "\n",
    "\n",
    "      "
   ]
  },
  {
   "cell_type": "code",
   "execution_count": 2,
   "id": "a74d506b",
   "metadata": {},
   "outputs": [
    {
     "name": "stdout",
     "output_type": "stream",
     "text": [
      "min:[1 2],[0 0 1 0]\n",
      "max:[5 5],[1 1 0 1]\n"
     ]
    }
   ],
   "source": [
    "import numpy as np\n",
    "var = np.array([[1, 2, 5, 4], [2, 3, 4, 5]])               #axis\"0\"=column\n",
    "print(f\"min:{np.min(var,axis=1)},{np.argmin(var,axis=0)}\") #axis\"1\"=row\n",
    "print(f\"max:{np.max(var,axis=1)},{np.argmax(var,axis=0)}\")\n"
   ]
  },
  {
   "cell_type": "code",
   "execution_count": 8,
   "id": "21d63aad",
   "metadata": {},
   "outputs": [
    {
     "name": "stdout",
     "output_type": "stream",
     "text": [
      "sqrt:[[1.         1.41421356 2.23606798 2.        ]\n",
      " [1.41421356 1.73205081 2.         2.23606798]]\n",
      "\n",
      "\n",
      "sin:[[ 0.84147098  0.90929743 -0.95892427 -0.7568025 ]\n",
      " [ 0.90929743  0.14112001 -0.7568025  -0.95892427]]\n",
      "\n",
      "\n",
      "cos:[[ 0.54030231 -0.41614684  0.28366219 -0.65364362]\n",
      " [-0.41614684 -0.9899925  -0.65364362  0.28366219]]\n",
      "\n",
      "\n",
      "cumsum:[ 1  3  8 12 14 17 21 26]\n",
      "\n"
     ]
    }
   ],
   "source": [
    "var = np.array([[1, 2, 5, 4], [2, 3, 4, 5]]) \n",
    "print(f\"sqrt:{np.sqrt(var)}\\n\")\n",
    "print()\n",
    "print(f\"sin:{np.sin(var)}\\n\")\n",
    "print()\n",
    "print(f\"cos:{np.cos(var)}\\n\")\n",
    "print()\n",
    "print(f\"cumsum:{np.cumsum(var)}\\n\")"
   ]
  },
  {
   "cell_type": "markdown",
   "id": "ac8133cc",
   "metadata": {},
   "source": [
    "# BRODCASTING"
   ]
  },
  {
   "cell_type": "code",
   "execution_count": 9,
   "id": "1024b527",
   "metadata": {},
   "outputs": [
    {
     "name": "stdout",
     "output_type": "stream",
     "text": [
      "(4,) \n",
      "\n",
      "(4, 1) \n",
      "\n",
      "[1 2 3 4] \n",
      "\n",
      "[[1]\n",
      " [2]\n",
      " [3]\n",
      " [4]] \n",
      "\n",
      "[[2 3 4 5]\n",
      " [3 4 5 6]\n",
      " [4 5 6 7]\n",
      " [5 6 7 8]]\n"
     ]
    }
   ],
   "source": [
    "import numpy as np\n",
    "var1=np.array([1,2,3,4])\n",
    "print(var1.shape,\"\\n\")\n",
    "  \n",
    "var2=np.array([[1],[2],[3],[4]])\n",
    "print(var2.shape,\"\\n\")\n",
    "\n",
    "print(var1,\"\\n\")\n",
    "print(var2,\"\\n\")\n",
    "print(var1+var2)\n"
   ]
  },
  {
   "cell_type": "code",
   "execution_count": 2,
   "id": "85d181f8",
   "metadata": {},
   "outputs": [
    {
     "name": "stdout",
     "output_type": "stream",
     "text": [
      "(1, 3)\n",
      "\n",
      "(1, 3, 3)\n",
      "\n",
      "[[[2 4 6]\n",
      "  [3 3 6]\n",
      "  [4 4 4]]]\n"
     ]
    }
   ],
   "source": [
    "import numpy as np\n",
    "var3=np.array([[1,2,3]])\n",
    "print(var3.shape)\n",
    "print(\"\")\n",
    "var4=np.array([[[1,2,3],[2,1,3],[3,2,1]]])\n",
    "print(var4.shape)\n",
    "print()\n",
    "print(var3+var4)"
   ]
  },
  {
   "cell_type": "code",
   "execution_count": 4,
   "id": "82d225f0",
   "metadata": {},
   "outputs": [
    {
     "name": "stdout",
     "output_type": "stream",
     "text": [
      "(2, 1)\n",
      "\n",
      "(2, 3)\n",
      "\n",
      "[[2 3 4]\n",
      " [3 4 5]]\n"
     ]
    }
   ],
   "source": [
    "x=np.array([[1],[2]])\n",
    "print(x.shape)\n",
    "print()\n",
    "y=np.array([[1,2,3],[1,2,3]])\n",
    "print(y.shape)\n",
    "print()\n",
    "print(x+y)"
   ]
  },
  {
   "cell_type": "code",
   "execution_count": 8,
   "id": "6af4ea82",
   "metadata": {},
   "outputs": [
    {
     "name": "stdout",
     "output_type": "stream",
     "text": [
      "(2, 1)\n",
      "(1, 3)\n",
      "[[3 4 5]\n",
      " [2 3 4]]\n"
     ]
    }
   ],
   "source": [
    "a=np.array([[2],[1]])\n",
    "print(a.shape)\n",
    "b=np.array([[1,2,3]])\n",
    "print(b.shape)\n",
    "print(a+b)"
   ]
  },
  {
   "cell_type": "code",
   "execution_count": 10,
   "id": "b9d140b2",
   "metadata": {},
   "outputs": [
    {
     "name": "stdout",
     "output_type": "stream",
     "text": [
      "(2, 1)\n",
      "(3, 3)\n"
     ]
    },
    {
     "ename": "ValueError",
     "evalue": "operands could not be broadcast together with shapes (2,1) (3,3) ",
     "output_type": "error",
     "traceback": [
      "\u001b[1;31m---------------------------------------------------------------------------\u001b[0m",
      "\u001b[1;31mValueError\u001b[0m                                Traceback (most recent call last)",
      "Cell \u001b[1;32mIn[10], line 5\u001b[0m\n\u001b[0;32m      3\u001b[0m b\u001b[38;5;241m=\u001b[39mnp\u001b[38;5;241m.\u001b[39marray([[\u001b[38;5;241m1\u001b[39m,\u001b[38;5;241m2\u001b[39m,\u001b[38;5;241m3\u001b[39m],[\u001b[38;5;241m2\u001b[39m,\u001b[38;5;241m1\u001b[39m,\u001b[38;5;241m3\u001b[39m],[\u001b[38;5;241m3\u001b[39m,\u001b[38;5;241m2\u001b[39m,\u001b[38;5;241m1\u001b[39m]])\n\u001b[0;32m      4\u001b[0m \u001b[38;5;28mprint\u001b[39m(b\u001b[38;5;241m.\u001b[39mshape)\n\u001b[1;32m----> 5\u001b[0m \u001b[38;5;28mprint\u001b[39m(a\u001b[38;5;241m+\u001b[39mb)\n",
      "\u001b[1;31mValueError\u001b[0m: operands could not be broadcast together with shapes (2,1) (3,3) "
     ]
    }
   ],
   "source": [
    "a=np.array([[2],[1]])\n",
    "print(a.shape)\n",
    "b=np.array([[1,2,3],[2,1,3],[3,2,1]])\n",
    "print(b.shape)\n",
    "print(a+b)"
   ]
  },
  {
   "cell_type": "markdown",
   "id": "c110c020",
   "metadata": {},
   "source": [
    "# INDEXING "
   ]
  },
  {
   "cell_type": "code",
   "execution_count": 23,
   "id": "e6a15f3a",
   "metadata": {},
   "outputs": [
    {
     "name": "stdout",
     "output_type": "stream",
     "text": [
      "6\n",
      "8\n"
     ]
    }
   ],
   "source": [
    "var=np.array([9,8,7,6]) #0,1,2,3\n",
    "print(var[3])           #-4,-3,-3,-1\n",
    "print(var[-3])"
   ]
  },
  {
   "cell_type": "code",
   "execution_count": 24,
   "id": "56ad27be",
   "metadata": {},
   "outputs": [
    {
     "name": "stdout",
     "output_type": "stream",
     "text": [
      "2\n",
      "\n",
      "4\n"
     ]
    }
   ],
   "source": [
    "var1=np.array([[3,4,5],[6,7,8]])\n",
    "print(var1.ndim)\n",
    "print()\n",
    "print(var1[0,1])"
   ]
  },
  {
   "cell_type": "code",
   "execution_count": 25,
   "id": "a2f27dc7",
   "metadata": {},
   "outputs": [
    {
     "name": "stdout",
     "output_type": "stream",
     "text": [
      "[[[1 2 3]\n",
      "  [4 5 6]\n",
      "  [7 8 9]]]\n",
      "3\n",
      "6\n"
     ]
    }
   ],
   "source": [
    "var2=np.array([[[1,2,3],[4,5,6],[7,8,9]]])\n",
    "print(var2)\n",
    "print(var2.ndim)\n",
    "print(var2[0,1,2])"
   ]
  },
  {
   "cell_type": "markdown",
   "id": "2f796e65",
   "metadata": {},
   "source": [
    "# SLICING"
   ]
  },
  {
   "cell_type": "code",
   "execution_count": 39,
   "id": "9e0b5d6a",
   "metadata": {},
   "outputs": [
    {
     "name": "stdout",
     "output_type": "stream",
     "text": [
      "[1 2 3 4 5 6 7 8 9]\n",
      "[1 3 5 7 9]\n",
      "[4 5 6 7 8 9]\n",
      "[1 2 3 4 5]\n"
     ]
    }
   ],
   "source": [
    "a=np.array([1,2,3,4,5,6,7,8,9])\n",
    "print(a)\n",
    "print(a[0:9:2])#[start:stop:step]\n",
    "print(a[3:])\n",
    "print(a[:5])"
   ]
  },
  {
   "cell_type": "code",
   "execution_count": 45,
   "id": "c29ca51c",
   "metadata": {},
   "outputs": [
    {
     "name": "stdout",
     "output_type": "stream",
     "text": [
      "[7 8]\n"
     ]
    }
   ],
   "source": [
    "var2=np.array([[[1,2,3],[4,5,6],[7,8,9]]])\n",
    "print(var2[0,2,0:2])"
   ]
  },
  {
   "cell_type": "code",
   "execution_count": 9,
   "id": "1970c275",
   "metadata": {},
   "outputs": [
    {
     "name": "stdout",
     "output_type": "stream",
     "text": [
      "[6 7 8]\n"
     ]
    }
   ],
   "source": [
    "k=np.array([[1,2,3,4],[5,6,7,8],[9,10,11,12]])\n",
    "print(k[1,1:])"
   ]
  },
  {
   "cell_type": "markdown",
   "id": "66da233a",
   "metadata": {},
   "source": [
    "# NUMPY ARRAY ITERATING"
   ]
  },
  {
   "cell_type": "code",
   "execution_count": 18,
   "id": "6f8e3f33",
   "metadata": {},
   "outputs": [
    {
     "name": "stdout",
     "output_type": "stream",
     "text": [
      "[1 2 3 4 5 6 7]\n",
      "\n",
      "1\n",
      "2\n",
      "3\n",
      "4\n",
      "5\n",
      "6\n",
      "7\n"
     ]
    }
   ],
   "source": [
    "x=np.array([1,2,3,4,5,6,7])\n",
    "print(x)\n",
    "print()\n",
    "for i in x:\n",
    "    print(i)"
   ]
  },
  {
   "cell_type": "code",
   "execution_count": 24,
   "id": "e4d95c65",
   "metadata": {},
   "outputs": [
    {
     "name": "stdout",
     "output_type": "stream",
     "text": [
      "[[[1 2 3]\n",
      "  [4 5 6]\n",
      "  [7 8 9]]]\n",
      "\n",
      "3\n",
      "\n",
      "1\n",
      "2\n",
      "3\n",
      "4\n",
      "5\n",
      "6\n",
      "7\n",
      "8\n",
      "9\n"
     ]
    }
   ],
   "source": [
    "var2=np.array([[[1,2,3],[4,5,6],[7,8,9]]])\n",
    "print(var2)\n",
    "print()\n",
    "print(var2.ndim)\n",
    "print()\n",
    "for j in var2:\n",
    "    pass\n",
    "    \n",
    "    \n",
    "for k in var2:\n",
    "    for l in k:\n",
    "        for a in l:\n",
    "            print(a)\n",
    "        "
   ]
  },
  {
   "cell_type": "code",
   "execution_count": 28,
   "id": "14501c9b",
   "metadata": {},
   "outputs": [
    {
     "name": "stdout",
     "output_type": "stream",
     "text": [
      "1\n",
      "2\n",
      "3\n",
      "4\n",
      "5\n",
      "6\n",
      "7\n",
      "8\n",
      "9\n"
     ]
    }
   ],
   "source": [
    "var2=np.array([[[1,2,3],[4,5,6],[7,8,9]]])\n",
    "for i in np.nditer(var2):             #function for itretion\n",
    "    print(i)"
   ]
  },
  {
   "cell_type": "code",
   "execution_count": 39,
   "id": "c1bd13b5",
   "metadata": {},
   "outputs": [
    {
     "name": "stdout",
     "output_type": "stream",
     "text": [
      "np.bytes_(b'1')\n",
      "np.bytes_(b'2')\n",
      "np.bytes_(b'3')\n",
      "np.bytes_(b'4')\n",
      "np.bytes_(b'5')\n",
      "np.bytes_(b'6')\n",
      "np.bytes_(b'7')\n",
      "np.bytes_(b'8')\n",
      "np.bytes_(b'9')\n"
     ]
    }
   ],
   "source": [
    "var2=np.array([[[1,2,3],[4,5,6],[7,8,9]]])\n",
    "for i in np.nditer(var2,flags=['buffered'],op_dtypes=[\"S\"]): \n",
    "    print(i)#used to change the data type\n",
    "    "
   ]
  },
  {
   "cell_type": "code",
   "execution_count": 40,
   "id": "4fb9ee5e",
   "metadata": {},
   "outputs": [
    {
     "name": "stdout",
     "output_type": "stream",
     "text": [
      "((0, 0, 0), np.int64(1))\n",
      "((0, 0, 1), np.int64(2))\n",
      "((0, 0, 2), np.int64(3))\n",
      "((0, 1, 0), np.int64(4))\n",
      "((0, 1, 1), np.int64(5))\n",
      "((0, 1, 2), np.int64(6))\n",
      "((0, 2, 0), np.int64(7))\n",
      "((0, 2, 1), np.int64(8))\n",
      "((0, 2, 2), np.int64(9))\n"
     ]
    }
   ],
   "source": [
    "var7=np.array([[[1,2,3],[4,5,6],[7,8,9]]])\n",
    "for i in np.ndenumerate(var7):             #function to show indxing also\n",
    "    print(i)"
   ]
  },
  {
   "cell_type": "markdown",
   "id": "3a37c0d5",
   "metadata": {},
   "source": [
    "## COPY AND VIEW "
   ]
  },
  {
   "cell_type": "code",
   "execution_count": 45,
   "id": "90693f32",
   "metadata": {},
   "outputs": [
    {
     "name": "stdout",
     "output_type": "stream",
     "text": [
      "var:[1 2 3 4]\n",
      "copy:[1 2 3 4]\n",
      "view:[1 2 3 4]\n"
     ]
    }
   ],
   "source": [
    "var=np.array([1,2,3,4])\n",
    "\n",
    "co=var.copy()\n",
    "\n",
    "vi=var.view()\n",
    "\n",
    "print(f\"var:{var}\\ncopy:{co}\\nview:{vi}\")\n"
   ]
  },
  {
   "cell_type": "code",
   "execution_count": 1,
   "id": "9f64861f",
   "metadata": {},
   "outputs": [],
   "source": [
    "# Feature\t  Copy\t                                                                         View\n",
    "# Definition\tCreates a new array and copies the data from the original array.\t       |Creates a new array object that looks at the same data as the original array.\n",
    "# Memory\tAllocates new memory for the copied data.\t                                   |Does not allocate new memory for the data; it references the same memory as the original array.\n",
    "# Data Independence\tChanges to the data in the copy do not affect the original array.      |Changes to the data in the view affect the original array and vice versa."
   ]
  },
  {
   "cell_type": "markdown",
   "id": "dc63f3b1",
   "metadata": {},
   "source": [
    "## JOIN ARRAY"
   ]
  },
  {
   "cell_type": "code",
   "execution_count": 1,
   "id": "56371ec7",
   "metadata": {},
   "outputs": [
    {
     "name": "stdout",
     "output_type": "stream",
     "text": [
      "[1 2 3 4 5 6 7 8]\n"
     ]
    }
   ],
   "source": [
    "import numpy as np\n",
    "\n",
    "var1=np.array([1,2,3,4])\n",
    "var2=np.array([5,6,7,8])\n",
    "\n",
    "join=np.concatenate((var1,var2))\n",
    "\n",
    "print(join)"
   ]
  },
  {
   "cell_type": "code",
   "execution_count": 2,
   "id": "dbbeaddb",
   "metadata": {},
   "outputs": [
    {
     "name": "stdout",
     "output_type": "stream",
     "text": [
      "[[5 6 0 1 2 3]\n",
      " [7 8 0 4 5 6]] \n",
      "\n",
      " [[5 6 0]\n",
      " [7 8 0]\n",
      " [1 2 3]\n",
      " [4 5 6]]\n"
     ]
    }
   ],
   "source": [
    "var3=np.array([[1,2,3],[4,5,6]])\n",
    "var4=np.array([[5,6,0],[7,8,0]])\n",
    "join1=np.concatenate((var4,var3),axis=1) #along row\n",
    "join2=np.concatenate((var4,var3),axis=0) #along column\n",
    "print(join1,\"\\n\\n\",join2)\n"
   ]
  },
  {
   "cell_type": "code",
   "execution_count": 6,
   "id": "4c59c3a3",
   "metadata": {},
   "outputs": [
    {
     "name": "stdout",
     "output_type": "stream",
     "text": [
      "[[[1 2 3]\n",
      "  [5 6 0]]\n",
      "\n",
      " [[4 5 6]\n",
      "  [7 8 0]]] \n",
      "\n",
      " [[[1 2 3]\n",
      "  [4 5 6]]\n",
      "\n",
      " [[5 6 0]\n",
      "  [7 8 0]]]\n"
     ]
    }
   ],
   "source": [
    "# by using\"stack\"function\n",
    "\n",
    "vr3=np.array([[1,2,3],[4,5,6]])\n",
    "vr4=np.array([[5,6,0],[7,8,0]])\n",
    "joint1=np.stack((vr3,vr4),axis=1) #along row\n",
    "joint2=np.stack((vr3,vr4),axis=0) #along column\n",
    "print(joint1,\"\\n\\n\",joint2)\n"
   ]
  },
  {
   "cell_type": "code",
   "execution_count": 11,
   "id": "40460cc1",
   "metadata": {},
   "outputs": [
    {
     "name": "stdout",
     "output_type": "stream",
     "text": [
      "[[1 2 3 4]\n",
      " [5 6 7 8]] \n",
      "\n",
      " [[1 5]\n",
      " [2 6]\n",
      " [3 7]\n",
      " [4 8]]\n"
     ]
    }
   ],
   "source": [
    "var1=np.array([1,2,3,4])\n",
    "var2=np.array([5,6,7,8])\n",
    "\n",
    "join1=np.stack((var1,var2),axis=0)\n",
    "join2=np.stack((var1,var2),axis=1)\n",
    "\n",
    "print(join1,\"\\n\\n\",join2)"
   ]
  },
  {
   "cell_type": "code",
   "execution_count": 15,
   "id": "206bef3e",
   "metadata": {},
   "outputs": [
    {
     "name": "stdout",
     "output_type": "stream",
     "text": [
      "[1 2 3 4 5 6 7 8] \n",
      "\n",
      " [[1 2 3 4]\n",
      " [5 6 7 8]] \n",
      "\n",
      " [[[1 5]\n",
      "  [2 6]\n",
      "  [3 7]\n",
      "  [4 8]]]\n"
     ]
    }
   ],
   "source": [
    "join1=np.hstack((var1,var2)) #h=along row\n",
    "join2=np.vstack((var1,var2))  #v=along column\n",
    "join3=np.dstack((var1,var2)) #d=along height\n",
    "print(join1,\"\\n\\n\",join2,\"\\n\\n\",join3)"
   ]
  },
  {
   "cell_type": "code",
   "execution_count": 19,
   "id": "9b4cf807",
   "metadata": {},
   "outputs": [
    {
     "name": "stdout",
     "output_type": "stream",
     "text": [
      "[[1 2 3 4]\n",
      " [5 6 7 8]] \n",
      "\n",
      " [[1 5]\n",
      " [2 6]\n",
      " [3 7]\n",
      " [4 8]] \n",
      "\n",
      " [[1 5]\n",
      " [2 6]\n",
      " [3 7]\n",
      " [4 8]]\n"
     ]
    }
   ],
   "source": [
    "join1=np.stack((var1,var2),axis=0) #h=along row\n",
    "join2=np.stack((var1,var2),axis=1)  #v=along column\n",
    "join3=np.stack((var1,var2),axis=-1)\n",
    "print(join1,\"\\n\\n\",join2,\"\\n\\n\",join3)"
   ]
  },
  {
   "cell_type": "markdown",
   "id": "7291a841",
   "metadata": {},
   "source": [
    "## SPLIT ARRAY"
   ]
  },
  {
   "cell_type": "code",
   "execution_count": 39,
   "id": "4e111d71",
   "metadata": {},
   "outputs": [
    {
     "name": "stdout",
     "output_type": "stream",
     "text": [
      "[1 2 3 4]\n",
      "\n",
      "\n",
      "[array([1]), array([2, 3]), array([4])]\n",
      "[2 3]\n"
     ]
    }
   ],
   "source": [
    "# when NOT equaly divide\n",
    "vr1=np.array([1,2,3,4])\n",
    "\n",
    "print(vr1)\n",
    "print()\n",
    "ar=np.array_split(vr1,[1,3])\n",
    "print()\n",
    "print(ar)\n",
    "print(ar[1])"
   ]
  },
  {
   "cell_type": "code",
   "execution_count": 36,
   "id": "063be74b",
   "metadata": {},
   "outputs": [
    {
     "name": "stdout",
     "output_type": "stream",
     "text": [
      "[array([[0, 1, 2, 3],\n",
      "       [4, 5, 6, 7]]), array([[ 8,  9, 10, 11],\n",
      "       [12, 13, 14, 15]])]\n"
     ]
    }
   ],
   "source": [
    "# use of AXIS\n",
    "import numpy as np\n",
    "\n",
    "# Create a 2D array\n",
    "arr = np.arange(16).reshape(4, 4)\n",
    "# array([[ 0,  1,  2,  3],\n",
    "#        [ 4,  5,  6,  7],\n",
    "#        [ 8,  9, 10, 11],\n",
    "#        [12, 13, 14, 15]])\n",
    "\n",
    "# Split the array into 2 equal parts along the columns (axis=1)\n",
    "split_arr = np.split(arr, 2, axis=0)\n",
    "\n",
    "print(split_arr)\n",
    "# Output: [array([[ 0,  1],\n",
    "#                 [ 4,  5],\n",
    "#                 [ 8,  9],\n",
    "#                 [12, 13]]), \n",
    "#          array([[ 2,  3],\n",
    "#                 [ 6,  7],\n",
    "#                 [10, 11],\n",
    "#                 [14, 15]])]\n"
   ]
  },
  {
   "cell_type": "code",
   "execution_count": 32,
   "id": "20e91d6d",
   "metadata": {},
   "outputs": [
    {
     "name": "stdout",
     "output_type": "stream",
     "text": [
      "[array([0, 1, 2]), array([3, 4, 5]), array([6, 7, 8])]\n"
     ]
    }
   ],
   "source": [
    "# SPLITTING IN EQUAL PARTS\n",
    "\n",
    "# Create an array\n",
    "arr = np.arange(9)  # array([0, 1, 2, 3, 4, 5, 6, 7, 8])\n",
    "\n",
    "# Split the array into 3 equal parts\n",
    "split_arr = np.split(arr, 3)\n",
    "\n",
    "print(split_arr)\n",
    "# Output: [array([0, 1, 2]), array([3, 4, 5]), array([6, 7, 8])]\n"
   ]
  },
  {
   "cell_type": "code",
   "execution_count": 42,
   "id": "85d82d09",
   "metadata": {},
   "outputs": [
    {
     "name": "stdout",
     "output_type": "stream",
     "text": [
      "[array([0, 1, 2]), array([3]), array([4, 5, 6, 7, 8])]\n",
      "\n",
      "[0 1 2]\n"
     ]
    }
   ],
   "source": [
    "#SPLITING IN SPECIFIC INDICES\n",
    "\n",
    "# Create an array\n",
    "arr = np.arange(9)  # array([0, 1, 2, 3, 4, 5, 6, 7, 8])\n",
    "\n",
    "# Split the array at indices 3 and 6\n",
    "split_arr = np.split(arr, [3, 4])\n",
    "\n",
    "print(split_arr)\n",
    "# Output: [array([0, 1, 2]), array([3, 4, 5]), array([6, 7, 8])]\n",
    "print()\n",
    "print(split_arr[0])"
   ]
  },
  {
   "cell_type": "code",
   "execution_count": 45,
   "id": "c9e0f500",
   "metadata": {},
   "outputs": [
    {
     "name": "stdout",
     "output_type": "stream",
     "text": [
      "[[ 0  1  2  3  4  5  6  7]\n",
      " [ 8  9 10 11 12 13 14 15]]\n"
     ]
    }
   ],
   "source": [
    "arr = np.arange(16).reshape(2, 8)\n",
    "print(arr)"
   ]
  },
  {
   "cell_type": "markdown",
   "id": "e63cc39d",
   "metadata": {},
   "source": [
    "## search"
   ]
  },
  {
   "cell_type": "code",
   "execution_count": 47,
   "id": "d088928b",
   "metadata": {},
   "outputs": [
    {
     "name": "stdout",
     "output_type": "stream",
     "text": [
      "(array([3]), array([2])) \n",
      "\n",
      "\n",
      "[[ 0  1  2  3]\n",
      " [ 4  5  6  7]\n",
      " [ 8  9 10 11]\n",
      " [12 13 14 15]]\n"
     ]
    }
   ],
   "source": [
    "arr = np.arange(16).reshape(4, 4)\n",
    "x=np.where(arr==14)\n",
    "print(x,\"\\n\\n\")\n",
    "print(arr)"
   ]
  },
  {
   "cell_type": "code",
   "execution_count": 3,
   "id": "9b1ebbd4",
   "metadata": {},
   "outputs": [
    {
     "name": "stdout",
     "output_type": "stream",
     "text": [
      "(array([ 0,  1,  2,  5,  7,  9, 11]),) \n",
      "\n",
      "\n",
      "[16 12 14 15  5  6  7 14  7  8  9  0]\n"
     ]
    }
   ],
   "source": [
    "import numpy as np\n",
    "array = np.array([16,12,14,15,5,6,7,14,7,8,9,0])\n",
    "y=np.where((array%2)==0)\n",
    "print(y,\"\\n\\n\")\n",
    "print(array)"
   ]
  },
  {
   "cell_type": "code",
   "execution_count": 11,
   "id": "da41ee35",
   "metadata": {},
   "outputs": [
    {
     "name": "stdout",
     "output_type": "stream",
     "text": [
      "[ 0  5  6  7  7  8  9 12 14 14 15 16]\n",
      "7\n"
     ]
    }
   ],
   "source": [
    "array = np.array([16,12,14,15,5,6,7,14,7,8,9,0])\n",
    "a=np.sort(array)\n",
    "print(a)\n",
    "\n",
    "a1=np.searchsorted(a,10)\n",
    "print(a1)"
   ]
  },
  {
   "cell_type": "code",
   "execution_count": 20,
   "id": "5802c49d",
   "metadata": {},
   "outputs": [
    {
     "name": "stdout",
     "output_type": "stream",
     "text": [
      "[ 0  5  6  7  7  8  9 10 12 14 14 15 16 23 45 67]\n",
      "[ 7  1  1  2 15]\n",
      "\n"
     ]
    }
   ],
   "source": [
    "array = np.array([16,12,14,15,5,6,7,14,7,8,9,0,10,23,45,67])\n",
    "a=np.sort(array)\n",
    "print(a)\n",
    "\n",
    "a1=np.searchsorted(a,[10,1,4,6,55],side=\"left\")\n",
    "print(a1)\n",
    "print()\n"
   ]
  },
  {
   "cell_type": "code",
   "execution_count": 21,
   "id": "1e105af8",
   "metadata": {},
   "outputs": [
    {
     "name": "stdout",
     "output_type": "stream",
     "text": [
      "['a' 'b' 'd' 'g' 'h' 'n' 'y' 'z']\n"
     ]
    }
   ],
   "source": [
    "array = np.array([\"a\",\"n\",\"h\",\"g\",\"d\",\"b\",\"y\",\"z\"])\n",
    "a=np.sort(array)\n",
    "print(a)"
   ]
  },
  {
   "cell_type": "code",
   "execution_count": 25,
   "id": "db028ce8",
   "metadata": {},
   "outputs": [
    {
     "name": "stdout",
     "output_type": "stream",
     "text": [
      "[[ 0  1  2  3]\n",
      " [ 4  5  6  7]\n",
      " [ 8  9 10 11]\n",
      " [12 13 14 15]]\n"
     ]
    }
   ],
   "source": [
    "arr1=np.arange(16).reshape(4,4)\n",
    "a=np.sort(arr1)\n",
    "print(a)\n"
   ]
  },
  {
   "cell_type": "code",
   "execution_count": 26,
   "id": "9fdf3358",
   "metadata": {},
   "outputs": [
    {
     "name": "stdout",
     "output_type": "stream",
     "text": [
      "['a' 'd' 'b']\n"
     ]
    }
   ],
   "source": [
    "array = np.array([\"a\",\"n\",\"h\",\"g\",\"d\",\"b\"])\n",
    "f=[True,False,False,False,True,True]\n",
    "new_arr=array[f]\n",
    "print(new_arr)"
   ]
  },
  {
   "cell_type": "markdown",
   "id": "da8129ec",
   "metadata": {},
   "source": [
    "## NUMPY FUNCTIONS"
   ]
  },
  {
   "cell_type": "code",
   "execution_count": 29,
   "id": "b7f9d40b",
   "metadata": {},
   "outputs": [
    {
     "name": "stdout",
     "output_type": "stream",
     "text": [
      "[2 7 1 4 6 5 8 9 3]\n"
     ]
    }
   ],
   "source": [
    "#random\n",
    "var=np.array([1,2,3,4,5,6,7,8,9])\n",
    "x=np.random.shuffle(var)\n",
    "print(var)"
   ]
  },
  {
   "cell_type": "code",
   "execution_count": 37,
   "id": "bcea9332",
   "metadata": {},
   "outputs": [
    {
     "name": "stdout",
     "output_type": "stream",
     "text": [
      "(array([1, 2, 3, 4, 5, 6, 7, 8, 9]), array([ 0,  3,  4,  6,  7,  8,  9, 10, 12]), array([3, 1, 2, 1, 4, 3, 4, 2, 1]))\n",
      "\n",
      "[1 1 1 2 3 3 4 5 5 5 5 6 6 6 7 7 7 7 8 8 9]\n"
     ]
    }
   ],
   "source": [
    "#unique\n",
    "var1=np.array([1,1,1,2,3,3,4,5,6,7,8,8,9,5,6,7,7,5,5,6,7])\n",
    "a=np.unique(var1,return_index=True,return_counts=True)\n",
    "print(a)\n",
    "s=np.sort(var1)\n",
    "print(\"\")\n",
    "print(s)\n",
    "\n"
   ]
  },
  {
   "cell_type": "code",
   "execution_count": 40,
   "id": "9607536b",
   "metadata": {},
   "outputs": [
    {
     "name": "stdout",
     "output_type": "stream",
     "text": [
      "[[1 1 1 2]\n",
      " [3 3 4 5]\n",
      " [6 7 8 8]\n",
      " [9 5 6 7]]\n"
     ]
    }
   ],
   "source": [
    "#resize\n",
    "var1=np.array([1,1,1,2,3,3,4,5,6,7,8,8,9,5,6,7,7,5,5,6,7])\n",
    "\n",
    "r=np.resize(var1,(4,4))\n",
    "\n",
    "print(r)"
   ]
  },
  {
   "cell_type": "code",
   "execution_count": 45,
   "id": "be0b2ec9",
   "metadata": {},
   "outputs": [
    {
     "name": "stdout",
     "output_type": "stream",
     "text": [
      "[[1 1 1 2]\n",
      " [3 3 4 5]\n",
      " [6 7 8 8]\n",
      " [9 5 6 7]]\n",
      "\n",
      "[1 1 1 2 3 3 4 5 6 7 8 8 9 5 6 7]\n"
     ]
    }
   ],
   "source": [
    "#flatten-->convert 2d arry to 1d array\n",
    "var1=np.array([1,1,1,2,3,3,4,5,6,7,8,8,9,5,6,7,7,5,5,6,7])\n",
    "\n",
    "r=np.resize(var1,(4,4))\n",
    "print(r)\n",
    "print(\"\")\n",
    "print(r.flatten(order=\"c\"))\n"
   ]
  },
  {
   "cell_type": "code",
   "execution_count": 59,
   "id": "9b04f035",
   "metadata": {},
   "outputs": [
    {
     "name": "stdout",
     "output_type": "stream",
     "text": [
      "[[1 1 1 2]\n",
      " [3 3 4 5]\n",
      " [6 7 8 8]\n",
      " [9 5 6 7]]\n",
      "\n",
      "[1 1 1 2 3 3 4 5 6 7 8 8 9 5 6 7]\n"
     ]
    }
   ],
   "source": [
    "#ravel\n",
    "var1=np.array([1,1,1,2,3,3,4,5,6,7,8,8,9,5,6,7,7,5,5,6,7])\n",
    "\n",
    "r=np.resize(var1,(4,4))\n",
    "print(r)\n",
    "print(\"\")\n",
    "print(np.ravel(r,order=\"K\"))\n",
    "# print(r.flatten(order=\"F\"))"
   ]
  },
  {
   "cell_type": "markdown",
   "id": "2d52e560",
   "metadata": {},
   "source": [
    "# INSERT"
   ]
  },
  {
   "cell_type": "code",
   "execution_count": 65,
   "id": "7039e634",
   "metadata": {},
   "outputs": [
    {
     "name": "stdout",
     "output_type": "stream",
     "text": [
      "[1.  2.  3.  4.5 5.  6.8 7. ]\n",
      "<class 'numpy.ndarray'>\n",
      "[1.  2.  3.  4.5 5.  6.  7.  8.  5.  6.8 7. ]\n"
     ]
    }
   ],
   "source": [
    "g=np.array([1,2,3,4.5,5,6.8,7])\n",
    "\n",
    "print(g)\n",
    "\n",
    "print(type(g))\n",
    "\n",
    "h=np.insert(g,4,[5,6,7,8])\n",
    "print(h)"
   ]
  },
  {
   "cell_type": "code",
   "execution_count": 68,
   "id": "25a47e56",
   "metadata": {},
   "outputs": [
    {
     "name": "stdout",
     "output_type": "stream",
     "text": [
      "[[0 1 2]\n",
      " [3 4 5]]\n",
      "\n",
      "[0 6 1 2 6 3 4 5]\n"
     ]
    }
   ],
   "source": [
    "h=np.arange(6).reshape(2,3)\n",
    "print(h)\n",
    "print(\"\")\n",
    "\n",
    "j=np.insert(h,(1,3),6 )\n",
    "print(j)"
   ]
  },
  {
   "cell_type": "code",
   "execution_count": 74,
   "id": "91e6d383",
   "metadata": {},
   "outputs": [
    {
     "name": "stdout",
     "output_type": "stream",
     "text": [
      "[[0 1 2]\n",
      " [3 4 5]]\n",
      "\n",
      "[[0 1 2 6]\n",
      " [3 4 5 6]]\n"
     ]
    }
   ],
   "source": [
    "h=np.arange(6).reshape(2,3)\n",
    "print(h)\n",
    "print(\"\")\n",
    "\n",
    "j=np.insert(h,(3),6,axis=1 )\n",
    "print(j)"
   ]
  },
  {
   "cell_type": "code",
   "execution_count": 76,
   "id": "087994c9",
   "metadata": {},
   "outputs": [
    {
     "name": "stdout",
     "output_type": "stream",
     "text": [
      "[[0 1 2]\n",
      " [3 4 5]]\n",
      "\n",
      "[0.  1.  2.  3.  4.  5.  3.7]\n"
     ]
    }
   ],
   "source": [
    "# append function\n",
    "h=np.arange(6).reshape(2,3)\n",
    "print(h)\n",
    "print(\"\")\n",
    "\n",
    "j=np.append(h,(3.7) )\n",
    "print(j)"
   ]
  },
  {
   "cell_type": "code",
   "execution_count": 83,
   "id": "4dd707dc",
   "metadata": {},
   "outputs": [
    {
     "name": "stdout",
     "output_type": "stream",
     "text": [
      "[[ 0  1  2  3]\n",
      " [ 4  5  6  7]\n",
      " [ 8  9 10 11]\n",
      " [12 13 14 15]]\n",
      "\n",
      "[[ 0  1  2  3]\n",
      " [ 4  5  6  7]\n",
      " [ 8  9 10 11]\n",
      " [12 13 14 15]\n",
      " [ 1  2  3  4]]\n"
     ]
    }
   ],
   "source": [
    "h=np.arange(16).reshape(4,4)\n",
    "print(h)\n",
    "print(\"\")\n",
    "\n",
    "j=np.append(h,[[1,2,3,4]],axis=0 )\n",
    "print(j)"
   ]
  },
  {
   "cell_type": "markdown",
   "id": "d35003db",
   "metadata": {},
   "source": [
    "## DELETE"
   ]
  },
  {
   "cell_type": "code",
   "execution_count": 93,
   "id": "7e4a9613",
   "metadata": {},
   "outputs": [
    {
     "name": "stdout",
     "output_type": "stream",
     "text": [
      "[[ 0  1  2  3]\n",
      " [ 4  5  6  7]\n",
      " [ 8  9 10 11]\n",
      " [12 13 14 15]]\n",
      "\n",
      "[[ 0  3]\n",
      " [ 4  7]\n",
      " [ 8 11]\n",
      " [12 15]]\n"
     ]
    }
   ],
   "source": [
    "h=np.arange(16).reshape(4,4)\n",
    "print(h)\n",
    "print(\"\")\n",
    "k=np.delete(h,(1,2),axis=1)\n",
    "print(k)"
   ]
  },
  {
   "cell_type": "code",
   "execution_count": 2,
   "id": "3fafd511",
   "metadata": {},
   "outputs": [
    {
     "name": "stdout",
     "output_type": "stream",
     "text": [
      "[ 0  1  2  3  4  5  6  7  8  9 10 11 12 13 14 15]\n",
      "\n",
      "[ 0  3  4  5  6  7  8  9 10 11 12 13 14 15]\n"
     ]
    }
   ],
   "source": [
    "import numpy as np\n",
    "h=np.arange(16)\n",
    "print(h)\n",
    "print(\"\")\n",
    "k=np.delete(h,(1,2))\n",
    "print(k)"
   ]
  },
  {
   "cell_type": "markdown",
   "id": "0f533361",
   "metadata": {},
   "source": [
    "# MATRIX"
   ]
  },
  {
   "cell_type": "code",
   "execution_count": 19,
   "id": "671b1848",
   "metadata": {},
   "outputs": [
    {
     "name": "stdout",
     "output_type": "stream",
     "text": [
      "[[1 2 3]\n",
      " [1 2 3]\n",
      " [1 2 3]]\n",
      "\n",
      "2\n",
      "(3, 3)\n",
      "<class 'numpy.matrix'>\n",
      "[[ 6 12 18]\n",
      " [ 6 12 18]\n",
      " [ 6 12 18]]\n"
     ]
    }
   ],
   "source": [
    "var=np.matrix([[1,2,3],[1,2,3],[1,2,3]])\n",
    "var2=np.matrix([[1,2,3],[1,2,3],[1,2,3]])\n",
    "\n",
    "print(var)\n",
    "print()\n",
    "print(var.ndim)\n",
    "print(var.shape)\n",
    "print(type(var))\n",
    "\n",
    "print(var.dot(var2))"
   ]
  },
  {
   "cell_type": "code",
   "execution_count": 20,
   "id": "e479f85c",
   "metadata": {},
   "outputs": [
    {
     "name": "stdout",
     "output_type": "stream",
     "text": [
      "[[[1 2 3]\n",
      "  [1 2 3]\n",
      "  [1 2 3]]]\n",
      "\n",
      "3\n",
      "(1, 3, 3)\n",
      "<class 'numpy.ndarray'>\n",
      "[[ 6 12 18]\n",
      " [ 6 12 18]\n",
      " [ 6 12 18]]\n"
     ]
    }
   ],
   "source": [
    "var=np.array([[[1,2,3],[1,2,3],[1,2,3]]])\n",
    "var1=np.array([[[1,2,3],[1,2,3],[1,2,3]]])\n",
    "print(var)\n",
    "print()\n",
    "print(var.ndim)\n",
    "print(var.shape)\n",
    "print(type(var))\n",
    "\n",
    "print(var.dot(var2))"
   ]
  },
  {
   "cell_type": "markdown",
   "id": "0330c6ff",
   "metadata": {},
   "source": [
    " ## MATRIX FUNCTION"
   ]
  },
  {
   "cell_type": "code",
   "execution_count": 23,
   "id": "8349e1f8",
   "metadata": {},
   "outputs": [
    {
     "name": "stdout",
     "output_type": "stream",
     "text": [
      "[[5 2 3]\n",
      " [6 2 3]\n",
      " [8 2 7]]\n",
      "\n",
      "[[5 6 8]\n",
      " [2 2 2]\n",
      " [3 3 7]]\n",
      "\n",
      "[[5 6 8]\n",
      " [2 2 2]\n",
      " [3 3 7]]\n"
     ]
    }
   ],
   "source": [
    "#TRANSPOSE\n",
    "\n",
    "var=np.matrix([[5,2,3],[6,2,3],[8,2,7]])\n",
    "print(var)\n",
    "print()\n",
    "print(np.transpose(var))\n",
    "print()\n",
    "print(var.T)"
   ]
  },
  {
   "cell_type": "code",
   "execution_count": 26,
   "id": "8bb72250",
   "metadata": {},
   "outputs": [
    {
     "name": "stdout",
     "output_type": "stream",
     "text": [
      "[[5 2 3]\n",
      " [6 2 3]\n",
      " [8 2 7]]\n",
      "\n",
      "[[5 6 8]\n",
      " [2 2 2]\n",
      " [3 3 7]]\n"
     ]
    }
   ],
   "source": [
    "#SWAPAAXES\n",
    "var=np.matrix([[5,2,3],[6,2,3],[8,2,7]])\n",
    "print(var)\n",
    "print()\n",
    "\n",
    "\n",
    "print(np.swapaxes(var,0,1))"
   ]
  },
  {
   "cell_type": "code",
   "execution_count": 30,
   "id": "8f6a2a39",
   "metadata": {},
   "outputs": [
    {
     "name": "stdout",
     "output_type": "stream",
     "text": [
      "<class 'numpy.ndarray'>\n"
     ]
    }
   ],
   "source": [
    "var2=np.arange(16).reshape(4,4)\n",
    "print(type(var2))"
   ]
  },
  {
   "cell_type": "code",
   "execution_count": 35,
   "id": "3beda35b",
   "metadata": {},
   "outputs": [
    {
     "name": "stdout",
     "output_type": "stream",
     "text": [
      "[[ 0  1  2  3]\n",
      " [ 4  5  6  7]\n",
      " [ 8  9 10 11]\n",
      " [12 13 14 15]]\n",
      "<class 'numpy.matrix'>\n"
     ]
    }
   ],
   "source": [
    "a=matrix=np.matrix(var2)\n",
    "print(var2)\n",
    "print(type(a))"
   ]
  },
  {
   "cell_type": "code",
   "execution_count": 33,
   "id": "65501821",
   "metadata": {},
   "outputs": [
    {
     "name": "stdout",
     "output_type": "stream",
     "text": [
      "3D Array:\n",
      "[[[ 1  2  3]\n",
      "  [ 4  5  6]]\n",
      "\n",
      " [[ 7  8  9]\n",
      "  [10 11 12]]]\n",
      "\n",
      "Reshaped to 2D Array:\n",
      "[[ 1  2  3]\n",
      " [ 4  5  6]\n",
      " [ 7  8  9]\n",
      " [10 11 12]]\n",
      "\n",
      "Converted Matrix from 3D Array:\n",
      "[[ 1  2  3]\n",
      " [ 4  5  6]\n",
      " [ 7  8  9]\n",
      " [10 11 12]]\n",
      "<class 'numpy.matrix'>\n"
     ]
    }
   ],
   "source": [
    "# Create a 3-dimensional array\n",
    "array_3d = np.array([[[1, 2, 3], [4, 5, 6]], [[7, 8, 9], [10, 11, 12]]])\n",
    "print(\"3D Array:\")\n",
    "print(array_3d)\n",
    "\n",
    "# Reshape the 3D array into a 2D array\n",
    "array_2d_from_3d = array_3d.reshape(-1, array_3d.shape[-1])\n",
    "print(\"\\nReshaped to 2D Array:\")\n",
    "print(array_2d_from_3d)\n",
    "\n",
    "# Convert the reshaped 2D array to a matrix\n",
    "matrix_from_3d = np.matrix(array_2d_from_3d)\n",
    "print(\"\\nConverted Matrix from 3D Array:\")\n",
    "print(matrix_from_3d)\n",
    "print(type(matrix_from_3d))\n"
   ]
  },
  {
   "cell_type": "code",
   "execution_count": 43,
   "id": "1816e912",
   "metadata": {},
   "outputs": [
    {
     "name": "stdout",
     "output_type": "stream",
     "text": [
      "[[1 2 3]\n",
      " [3 4 5]\n",
      " [7 9 9]]\n",
      "\n",
      "[[-2.25  2.25 -0.5 ]\n",
      " [ 2.   -3.    1.  ]\n",
      " [-0.25  1.25 -0.5 ]]\n"
     ]
    }
   ],
   "source": [
    "#INVERSE\n",
    "var_3=np.matrix([[1,2,3],[3,4,5],[7,9,9]])\n",
    "print(var_3)\n",
    "print()\n",
    "print(np.linalg.inv(var_3))"
   ]
  },
  {
   "cell_type": "code",
   "execution_count": 46,
   "id": "9947a0df",
   "metadata": {},
   "outputs": [
    {
     "name": "stdout",
     "output_type": "stream",
     "text": [
      "[[1 2 3]\n",
      " [1 4 3]\n",
      " [5 6 7]]\n",
      "\n",
      "[[18 28 30]\n",
      " [20 36 36]\n",
      " [46 76 82]]\n"
     ]
    }
   ],
   "source": [
    "#POWER\n",
    "var_4=np.matrix([[1,2,3],[1,4,3],[5,6,7]])\n",
    "\n",
    "print(var_4)\n",
    "\n",
    "# p=np.linalg.matrix_power(var,n) #n=0(identity matrix)| n>0(power multiply)|n<0(invers X power)\n",
    "p=np.linalg.matrix_power(var_4,2)\n",
    "print()\n",
    "print(p)\n"
   ]
  },
  {
   "cell_type": "code",
   "execution_count": 47,
   "id": "b9da2996",
   "metadata": {},
   "outputs": [
    {
     "name": "stdout",
     "output_type": "stream",
     "text": [
      "[[1 2 3]\n",
      " [1 4 3]\n",
      " [5 6 7]]\n",
      "\n",
      "[[1 0 0]\n",
      " [0 1 0]\n",
      " [0 0 1]]\n"
     ]
    }
   ],
   "source": [
    "#POWER\n",
    "var_4=np.matrix([[1,2,3],[1,4,3],[5,6,7]])\n",
    "\n",
    "print(var_4)\n",
    "\n",
    "# p=np.linalg.matrix_power(var,n) #n=0(identity matrix)| n>0(power multiply)|n<0(invers X power)\n",
    "p=np.linalg.matrix_power(var_4,0)\n",
    "print()\n",
    "print(p)\n"
   ]
  },
  {
   "cell_type": "code",
   "execution_count": 48,
   "id": "9785c04d",
   "metadata": {},
   "outputs": [
    {
     "name": "stdout",
     "output_type": "stream",
     "text": [
      "[[1 2 3]\n",
      " [1 4 3]\n",
      " [5 6 7]]\n",
      "\n",
      "[[ 0.84375 -0.0625  -0.28125]\n",
      " [ 0.0625   0.375   -0.1875 ]\n",
      " [-0.53125 -0.3125   0.34375]]\n"
     ]
    }
   ],
   "source": [
    "#POWER\n",
    "var_4=np.matrix([[1,2,3],[1,4,3],[5,6,7]])\n",
    "\n",
    "print(var_4)\n",
    "\n",
    "# p=np.linalg.matrix_power(var,n) #n=0(identity matrix)| n>0(power multiply)|n<0(invers X power)\n",
    "p=np.linalg.matrix_power(var_4,-2)\n",
    "print()\n",
    "print(p)\n"
   ]
  },
  {
   "cell_type": "code",
   "execution_count": 57,
   "id": "fdfd8793",
   "metadata": {},
   "outputs": [
    {
     "name": "stdout",
     "output_type": "stream",
     "text": [
      "[[0 1 2]\n",
      " [3 4 5]\n",
      " [6 7 8]]\n",
      "\n",
      "-15.999999999999998\n"
     ]
    }
   ],
   "source": [
    "#DETERMINANT \n",
    "n=np.arange(9).reshape(3,3)\n",
    "print(n)\n",
    "\n",
    "#to find determinant\n",
    "np.linalg.det(n)\n",
    "\n",
    "var_4=np.matrix([[1,2,3],[1,4,3],[5,6,7]])\n",
    "print()\n",
    "print(np.linalg.det(var_4))"
   ]
  },
  {
   "cell_type": "code",
   "execution_count": null,
   "id": "fe20c92d",
   "metadata": {},
   "outputs": [],
   "source": []
  }
 ],
 "metadata": {
  "kernelspec": {
   "display_name": "Python 3 (ipykernel)",
   "language": "python",
   "name": "python3"
  },
  "language_info": {
   "codemirror_mode": {
    "name": "ipython",
    "version": 3
   },
   "file_extension": ".py",
   "mimetype": "text/x-python",
   "name": "python",
   "nbconvert_exporter": "python",
   "pygments_lexer": "ipython3",
   "version": "3.11.5"
  }
 },
 "nbformat": 4,
 "nbformat_minor": 5
}
