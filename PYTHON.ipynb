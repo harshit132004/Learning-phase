{
 "cells": [
  {
   "cell_type": "code",
   "execution_count": null,
   "id": "7fc7116c",
   "metadata": {},
   "outputs": [],
   "source": [
    "a= 1 # a is an integer\n",
    "b=4.56 # b is a floating point number\n",
    "c=\"harshit\" # c is a string\n",
    "d=True # d is s boolean variable\n",
    "e=None # e is a non type variable\n",
    "\n",
    "\"\"\" HERE A,B,C,D,E ALL ARE VARIABLES\"\"\"\n"
   ]
  },
  {
   "cell_type": "markdown",
   "id": "df2b8aa1",
   "metadata": {},
   "source": [
    "#### OPERATORS"
   ]
  },
  {
   "cell_type": "code",
   "execution_count": null,
   "id": "9b05ec2e",
   "metadata": {},
   "outputs": [],
   "source": [
    "# arithmatic operators\n",
    "# +, -, *, /\n",
    "# assingment operator\n",
    "# =,+=,-=\n",
    "# comparison operator\n",
    "# >,<,>=,<=,==,!=\n",
    "# logical operator\n",
    "# and ,or ,not\n",
    "    \n"
   ]
  },
  {
   "cell_type": "markdown",
   "id": "f9461113",
   "metadata": {},
   "source": [
    "#### type() function and typrcasting"
   ]
  },
  {
   "cell_type": "code",
   "execution_count": 3,
   "id": "a4087515",
   "metadata": {},
   "outputs": [
    {
     "name": "stdout",
     "output_type": "stream",
     "text": [
      "<class 'int'>\n",
      "<class 'str'>\n"
     ]
    }
   ],
   "source": [
    "a = 31\n",
    "type(a) # class <int>\n",
    "print(type(a))\n",
    "b = \"31\"\n",
    "B=type (b) # class <str>\n",
    "print(B)\n"
   ]
  },
  {
   "cell_type": "code",
   "execution_count": 7,
   "id": "6c79c649",
   "metadata": {},
   "outputs": [
    {
     "name": "stdout",
     "output_type": "stream",
     "text": [
      "<class 'float'>\n"
     ]
    }
   ],
   "source": [
    "a =\"31\" # integer to string conversion\n",
    "b= float(a)\n",
    "print(type(b)) # integer to float conversion\n"
   ]
  },
  {
   "cell_type": "markdown",
   "id": "ed178133",
   "metadata": {},
   "source": [
    "#### input()   function"
   ]
  },
  {
   "cell_type": "code",
   "execution_count": 11,
   "id": "9901c985",
   "metadata": {},
   "outputs": [
    {
     "name": "stdout",
     "output_type": "stream",
     "text": [
      "enter first number: 55\n",
      "enter second number: 45\n",
      "number 1 is:  55\n",
      "number 2 is:  45\n",
      "sum is:  100\n"
     ]
    }
   ],
   "source": [
    "number1= int(input(\"enter first number: \"))\n",
    "number2= int(input(\"enter second number: \"))\n",
    "print(\"number 1 is: \",number1)\n",
    "print(\"number 2 is: \",number2)\n",
    "print(\"sum is: \",number1+number2)"
   ]
  },
  {
   "cell_type": "code",
   "execution_count": 12,
   "id": "eeb104ff",
   "metadata": {},
   "outputs": [
    {
     "name": "stdout",
     "output_type": "stream",
     "text": [
      "enter first number: 40\n",
      "enter second number: 50\n",
      "number 1 is:  40\n",
      "number 2 is:  50\n",
      "number1 is greater than number2 is:  False\n"
     ]
    }
   ],
   "source": [
    "number1= int(input(\"enter first number: \"))\n",
    "number2= int(input(\"enter second number: \"))\n",
    "print(\"number 1 is: \",number1)\n",
    "print(\"number 2 is: \",number2)\n",
    "print(\"number1 is greater than number2 is: \",number1>number2)"
   ]
  },
  {
   "cell_type": "code",
   "execution_count": 15,
   "id": "94bc74c3",
   "metadata": {},
   "outputs": [
    {
     "name": "stdout",
     "output_type": "stream",
     "text": [
      "enter first number: 45.65\n",
      "enter second number: 678.876\n",
      "number 1 is:  45.65\n",
      "number 2 is:  678.876\n",
      "average of number1 and number2 is:  362.263\n"
     ]
    }
   ],
   "source": [
    "number1= float(input(\"enter first number: \"))\n",
    "number2= float(input(\"enter second number: \"))\n",
    "print(\"number 1 is: \",number1)\n",
    "print(\"number 2 is: \",number2)\n",
    "print(\"average of number1 and number2 is: \",(number1+number2)/2)"
   ]
  },
  {
   "cell_type": "code",
   "execution_count": 16,
   "id": "5b5e76fe",
   "metadata": {},
   "outputs": [
    {
     "name": "stdout",
     "output_type": "stream",
     "text": [
      "enter first number: 45\n",
      "enter second number: 55\n",
      "square of number1 and number2 is:  50.0\n"
     ]
    }
   ],
   "source": [
    "number1= float(input(\"enter first number: \"))\n",
    "print(\"square of number1 is: \",(number1**2) #a**2 is a*a which is a square "
   ]
  },
  {
   "cell_type": "markdown",
   "id": "29e46d02",
   "metadata": {},
   "source": [
    "### STRINGS"
   ]
  },
  {
   "cell_type": "code",
   "execution_count": 19,
   "id": "2552f838",
   "metadata": {},
   "outputs": [
    {
     "name": "stdout",
     "output_type": "stream",
     "text": [
      "hars\n"
     ]
    }
   ],
   "source": [
    "name=\"harshit\"\n",
    "#slicing\n",
    "sl=name[0:4] #cahracters from 0 to 4 (excluding 4)\n",
    "print(sl)"
   ]
  },
  {
   "cell_type": "code",
   "execution_count": 20,
   "id": "e688156f",
   "metadata": {},
   "outputs": [
    {
     "name": "stdout",
     "output_type": "stream",
     "text": [
      "h\n"
     ]
    }
   ],
   "source": [
    "char1=name[4]\n",
    "print(char1)"
   ]
  },
  {
   "cell_type": "code",
   "execution_count": 24,
   "id": "88111099",
   "metadata": {},
   "outputs": [
    {
     "name": "stdout",
     "output_type": "stream",
     "text": [
      "h\n",
      "hars\n",
      "hit\n",
      "shi\n",
      "shi\n"
     ]
    }
   ],
   "source": [
    "char1=name[4]\n",
    "print(char1)\n",
    "\n",
    "char2=name[:4] # start from 0\n",
    "print(char2)\n",
    "\n",
    "char3=name[4:] # start from 4 to (len-1)\n",
    "print(char3)\n",
    "\n",
    "char4=name[-4:-1]\n",
    "print(char4)\n",
    "\n",
    "char5=name[3:6]\n",
    "print(char5)"
   ]
  },
  {
   "cell_type": "code",
   "execution_count": 27,
   "id": "79f5e153",
   "metadata": {},
   "outputs": [
    {
     "name": "stdout",
     "output_type": "stream",
     "text": [
      "harshi\n"
     ]
    }
   ],
   "source": [
    "char6=name[:6:1] # it is same as [0:6:1] means character 0 to 6 by skipping 1 alternately\n",
    "print(char6)"
   ]
  },
  {
   "cell_type": "markdown",
   "id": "9e2cce4b",
   "metadata": {},
   "source": [
    "#### strings function"
   ]
  },
  {
   "cell_type": "markdown",
   "id": "1edfd807",
   "metadata": {},
   "source": [
    "### strings are immutable"
   ]
  },
  {
   "cell_type": "code",
   "execution_count": 29,
   "id": "23c15b6b",
   "metadata": {},
   "outputs": [
    {
     "name": "stdout",
     "output_type": "stream",
     "text": [
      "7\n"
     ]
    }
   ],
   "source": [
    "# string.len:to calculate length\n",
    "l=len(name)\n",
    "print(l)"
   ]
  },
  {
   "cell_type": "code",
   "execution_count": 34,
   "id": "6fb2aabb",
   "metadata": {},
   "outputs": [
    {
     "name": "stdout",
     "output_type": "stream",
     "text": [
      "True\n",
      "True\n"
     ]
    }
   ],
   "source": [
    "# String.endswith(\"hit\") – This function_ tells whether the variable string ends with the string \"hit\" or not\n",
    "end=name.endswith(\"hit\")\n",
    "print(end)\n",
    "start=name.startswith(\"har\")\n",
    "print(start)\n",
    "\n"
   ]
  },
  {
   "cell_type": "code",
   "execution_count": 35,
   "id": "de8b90c0",
   "metadata": {},
   "outputs": [
    {
     "name": "stdout",
     "output_type": "stream",
     "text": [
      "2\n"
     ]
    }
   ],
   "source": [
    "#string.count(\"c\") – counts the total number of occurrences of any character.\n",
    "count=name.count(\"h\")\n",
    "print(count)"
   ]
  },
  {
   "cell_type": "code",
   "execution_count": 36,
   "id": "85f19062",
   "metadata": {},
   "outputs": [
    {
     "name": "stdout",
     "output_type": "stream",
     "text": [
      "Harry youtuber\n"
     ]
    }
   ],
   "source": [
    "# str.capitalize()=it capitalize the first character of a given string.\n",
    "str = \"harry youtuber\"\n",
    "capitalized_string = str.capitalize()\n",
    "print(capitalized_string) # Output: \"Harry\"\n"
   ]
  },
  {
   "cell_type": "code",
   "execution_count": 37,
   "id": "162a5b5d",
   "metadata": {},
   "outputs": [
    {
     "name": "stdout",
     "output_type": "stream",
     "text": [
      "hello, world!\n"
     ]
    }
   ],
   "source": [
    "#  str.lower()\n",
    "# Converts all characters in the string to lowercase.\n",
    "string = \"Hello, World!\"\n",
    "lowercase_string = string.lower()\n",
    "print(lowercase_string)  # Output: hello, world!\n"
   ]
  },
  {
   "cell_type": "code",
   "execution_count": 38,
   "id": "888c8958",
   "metadata": {},
   "outputs": [
    {
     "name": "stdout",
     "output_type": "stream",
     "text": [
      "HELLO, WORLD!\n"
     ]
    }
   ],
   "source": [
    "# str.upper()\n",
    "# Converts all characters in the string to uppercase.\n",
    "string = \"Hello, World!\"\n",
    "uppercase_string = string.upper()\n",
    "print(uppercase_string)  # Output: HELLO, WORLD!\n"
   ]
  },
  {
   "cell_type": "code",
   "execution_count": 39,
   "id": "e86bddf5",
   "metadata": {},
   "outputs": [
    {
     "name": "stdout",
     "output_type": "stream",
     "text": [
      "Hello, Python!\n"
     ]
    }
   ],
   "source": [
    "# str.replace()\n",
    "# Replaces a substring with another substring.\n",
    "\n",
    "string = \"Hello, World!\"\n",
    "new_string = string.replace(\"World\", \"Python\")\n",
    "print(new_string)  # Output: Hello, Python!"
   ]
  },
  {
   "cell_type": "code",
   "execution_count": 40,
   "id": "d51bcdbd",
   "metadata": {},
   "outputs": [
    {
     "name": "stdout",
     "output_type": "stream",
     "text": [
      "['Hello,', 'World!']\n"
     ]
    }
   ],
   "source": [
    "# str.split()\n",
    "# Splits the string into a list of substrings.\n",
    "string = \"Hello, World!\"\n",
    "split_string = string.split()\n",
    "print(split_string)  # Output: ['Hello,', 'World!']\n"
   ]
  },
  {
   "cell_type": "code",
   "execution_count": 41,
   "id": "8612ea31",
   "metadata": {},
   "outputs": [
    {
     "name": "stdout",
     "output_type": "stream",
     "text": [
      "Hello World\n"
     ]
    }
   ],
   "source": [
    "# str.join()\n",
    "# Joins elements of a list into a single string with a specified separator.\n",
    "words = [\"Hello\", \"World\"]\n",
    "joined_string = \" \".join(words)\n",
    "print(joined_string)  # Output: Hello World\n"
   ]
  },
  {
   "cell_type": "code",
   "execution_count": 42,
   "id": "bcd7d4cf",
   "metadata": {},
   "outputs": [
    {
     "name": "stdout",
     "output_type": "stream",
     "text": [
      "7\n"
     ]
    }
   ],
   "source": [
    "# str.find()\n",
    "# Finds the first occurrence of a substring and returns its index.\n",
    "string = \"Hello, World!\"\n",
    "index = string.find(\"World\")\n",
    "print(index)  # Output: 7\n"
   ]
  },
  {
   "cell_type": "markdown",
   "id": "6ad5ace7",
   "metadata": {},
   "source": [
    "#### practice on strings"
   ]
  },
  {
   "cell_type": "code",
   "execution_count": 18,
   "id": "ae8246fa",
   "metadata": {},
   "outputs": [
    {
     "name": "stdout",
     "output_type": "stream",
     "text": [
      "enter your name:h\n",
      "good afternoon h\n"
     ]
    }
   ],
   "source": [
    "# Write a python program to display a user entered name followed by Good\n",
    "# Afternoon using input () function.\n",
    "name=input(\"enter your name:\")\n",
    "print(f\"good afternoon {name}\"  )\n",
    "\n",
    "\n"
   ]
  },
  {
   "cell_type": "code",
   "execution_count": 7,
   "id": "6fda4e72",
   "metadata": {},
   "outputs": [
    {
     "name": "stdout",
     "output_type": "stream",
     "text": [
      "enter your name:5dec\n",
      "enter date:6dec5\n",
      "Dear 5dec You are selected 6dec5\n"
     ]
    }
   ],
   "source": [
    "#Write a program to fill in a letter template given below with name and date.\n",
    "name=input(\"enter your name:\")\n",
    "date=(input(\"enter date:\"))\n",
    "print(\"Dear\",name,\n",
    "      \"You are selected\"\n",
    "       ,date)"
   ]
  },
  {
   "cell_type": "code",
   "execution_count": 12,
   "id": "3a1a86d2",
   "metadata": {},
   "outputs": [
    {
     "name": "stdout",
     "output_type": "stream",
     "text": [
      "\n",
      "Dear hars,\n",
      "You are selected!\n",
      "1july 2024\n",
      "\n"
     ]
    }
   ],
   "source": [
    "#Write a program to fill in a letter template given below with name and date.\n",
    "letter = '''\n",
    "Dear <|Name|>,\n",
    "You are selected!\n",
    "<|Date|>\n",
    "'''\n",
    "print(letter.replace(\"<|Name|>\",\"hars\").replace(\"<|Date|>\",\"1july 2024\"))\n"
   ]
  },
  {
   "cell_type": "code",
   "execution_count": 20,
   "id": "b7b64ebd",
   "metadata": {},
   "outputs": [
    {
     "name": "stdout",
     "output_type": "stream",
     "text": [
      "22\n"
     ]
    }
   ],
   "source": [
    "#Write a program to detect double space in a string\n",
    "name=\"you are a very   very good  boy\"\n",
    "print(name.find(\"goo\"))"
   ]
  },
  {
   "cell_type": "code",
   "execution_count": 23,
   "id": "dfd9cc0b",
   "metadata": {},
   "outputs": [
    {
     "name": "stdout",
     "output_type": "stream",
     "text": [
      "you are a very  very good boy\n"
     ]
    }
   ],
   "source": [
    "#Replace the double space from problem 3 with single spaces.\n",
    "name=\"you are a very   very good  boy\"\n",
    "print(name.replace(\"  \",\" \").replace(\"   \",\" \"))"
   ]
  },
  {
   "cell_type": "code",
   "execution_count": 26,
   "id": "7ec212ce",
   "metadata": {},
   "outputs": [
    {
     "name": "stdout",
     "output_type": "stream",
     "text": [
      "Dear Harry, \n",
      "this \tPython course is nice. \n",
      "Thanks!\n"
     ]
    }
   ],
   "source": [
    "# Write a program to format the following letter using escape sequence\n",
    "# characters.\n",
    "letter = \"Dear Harry, \\nthis \\tPython course is nice. \\nThanks!\"\n",
    "print(letter)\n",
    "\n"
   ]
  },
  {
   "cell_type": "markdown",
   "id": "65727d48",
   "metadata": {},
   "source": [
    "#### list and tuples"
   ]
  },
  {
   "cell_type": "code",
   "execution_count": 28,
   "id": "2266c08a",
   "metadata": {},
   "outputs": [
    {
     "name": "stdout",
     "output_type": "stream",
     "text": [
      "['apple', 'orange', 'green', 4, '6', '@', '=!', False]\n"
     ]
    }
   ],
   "source": [
    "items=[\"apple\",\"orange\",\"green\",4,\"6\",'@',\"=!\",False]\n",
    "print(items)"
   ]
  },
  {
   "cell_type": "code",
   "execution_count": 29,
   "id": "290c47b6",
   "metadata": {},
   "outputs": [
    {
     "name": "stdout",
     "output_type": "stream",
     "text": [
      "@\n"
     ]
    }
   ],
   "source": [
    "print(items[5])"
   ]
  },
  {
   "cell_type": "code",
   "execution_count": 30,
   "id": "fa781c90",
   "metadata": {},
   "outputs": [
    {
     "name": "stdout",
     "output_type": "stream",
     "text": [
      "['apple', 'orange', 'green', 4, '6', '@', \"i don't know\", False]\n"
     ]
    }
   ],
   "source": [
    "# lists are mutable\n",
    "items[6]=\"i don't know\"\n",
    "print(items)"
   ]
  },
  {
   "cell_type": "code",
   "execution_count": 31,
   "id": "5fd4c745",
   "metadata": {},
   "outputs": [
    {
     "name": "stdout",
     "output_type": "stream",
     "text": [
      "[4, '6', '@', \"i don't know\", False]\n"
     ]
    }
   ],
   "source": [
    "print(items[3:8])"
   ]
  },
  {
   "cell_type": "markdown",
   "id": "890dfdcb",
   "metadata": {},
   "source": [
    "#### list functions"
   ]
  },
  {
   "cell_type": "code",
   "execution_count": 34,
   "id": "a7932c58",
   "metadata": {},
   "outputs": [
    {
     "name": "stdout",
     "output_type": "stream",
     "text": [
      "['apple', 'orange', 'green', 4, '6', '@', \"i don't know\", False, 'kutta', 'kutta', 'kutta']\n"
     ]
    }
   ],
   "source": [
    "items.append(\"kutta\")\n",
    "print(items)"
   ]
  },
  {
   "cell_type": "code",
   "execution_count": 37,
   "id": "699d0fc7",
   "metadata": {},
   "outputs": [],
   "source": [
    "l1=[3,4,5,6,6,7,8,8,9,9,7,6,6,5,55,5,6,6,6666,7,7,78,8,8,8,9,9,8,8,77,6,5,5,]"
   ]
  },
  {
   "cell_type": "code",
   "execution_count": 38,
   "id": "b740b44b",
   "metadata": {},
   "outputs": [
    {
     "name": "stdout",
     "output_type": "stream",
     "text": [
      "[3, 4, 5, 5, 5, 5, 5, 6, 6, 6, 6, 6, 6, 6, 7, 7, 7, 7, 8, 8, 8, 8, 8, 8, 8, 9, 9, 9, 9, 55, 77, 78, 6666]\n"
     ]
    }
   ],
   "source": [
    "l1.sort()\n",
    "print(l1)"
   ]
  },
  {
   "cell_type": "code",
   "execution_count": 39,
   "id": "981f2194",
   "metadata": {},
   "outputs": [
    {
     "name": "stdout",
     "output_type": "stream",
     "text": [
      "[6666, 78, 77, 55, 9, 9, 9, 9, 8, 8, 8, 8, 8, 8, 8, 7, 7, 7, 7, 6, 6, 6, 6, 6, 6, 6, 5, 5, 5, 5, 5, 4, 3]\n"
     ]
    }
   ],
   "source": [
    "l1.reverse()\n",
    "print(l1)"
   ]
  },
  {
   "cell_type": "code",
   "execution_count": 46,
   "id": "3a54a08f",
   "metadata": {},
   "outputs": [
    {
     "name": "stdout",
     "output_type": "stream",
     "text": [
      "['apple', 'orange', 'green', 4, '6', '@', 5, \"i don't know\", False, 'kutta', 'kutta', 'kutta']\n"
     ]
    }
   ],
   "source": [
    "items.insert(6,5)\n",
    "print(items)"
   ]
  },
  {
   "cell_type": "code",
   "execution_count": 51,
   "id": "9bf98ae4",
   "metadata": {},
   "outputs": [
    {
     "name": "stdout",
     "output_type": "stream",
     "text": [
      "7\n",
      "[6666, 78, 77, 55, 9, 9, 9, 8, 8, 8, 8, 8, 7, 7, 7, 6, 6, 6, 6, 6, 6, 6, 5, 5, 5, 5, 5, 4, 3]\n"
     ]
    }
   ],
   "source": [
    "print(l1.pop(15))\n",
    "print(l1)"
   ]
  },
  {
   "cell_type": "code",
   "execution_count": 53,
   "id": "04f91f59",
   "metadata": {},
   "outputs": [
    {
     "name": "stdout",
     "output_type": "stream",
     "text": [
      "None\n",
      "[78, 77, 55, 9, 9, 9, 8, 8, 8, 8, 8, 7, 7, 7, 6, 6, 6, 6, 6, 6, 6, 5, 5, 5, 5, 5, 4, 3]\n"
     ]
    }
   ],
   "source": [
    "print(l1.remove(6666))\n",
    "print(l1)"
   ]
  },
  {
   "cell_type": "markdown",
   "id": "7534bd2b",
   "metadata": {},
   "source": [
    "### tuple\n",
    "#### tuples are immutable\n",
    "#### lists are mutable"
   ]
  },
  {
   "cell_type": "code",
   "execution_count": 54,
   "id": "cff41182",
   "metadata": {},
   "outputs": [
    {
     "name": "stdout",
     "output_type": "stream",
     "text": [
      "<class 'tuple'>\n"
     ]
    }
   ],
   "source": [
    "a=(1,2,5,6)\n",
    "print(type(a))"
   ]
  },
  {
   "cell_type": "code",
   "execution_count": 56,
   "id": "92d57f0c",
   "metadata": {},
   "outputs": [
    {
     "name": "stdout",
     "output_type": "stream",
     "text": [
      "<class 'tuple'>\n"
     ]
    }
   ],
   "source": [
    "b=(1,)\n",
    "print(type(b))"
   ]
  },
  {
   "cell_type": "markdown",
   "id": "8367250b",
   "metadata": {},
   "source": [
    "### tuple functions"
   ]
  },
  {
   "cell_type": "code",
   "execution_count": 58,
   "id": "0fb820ed",
   "metadata": {},
   "outputs": [
    {
     "name": "stdout",
     "output_type": "stream",
     "text": [
      "1\n"
     ]
    }
   ],
   "source": [
    "# a.count (1): a count (1) will return number of times 1 occurs in a.\n",
    "b=a.count(2)\n",
    "print(b)"
   ]
  },
  {
   "cell_type": "code",
   "execution_count": 59,
   "id": "ace935d9",
   "metadata": {},
   "outputs": [
    {
     "name": "stdout",
     "output_type": "stream",
     "text": [
      "2\n"
     ]
    }
   ],
   "source": [
    "#a.index (1) will return the index of first occurrence of 1 in a\n",
    "b=a.index(5)\n",
    "print(b)"
   ]
  },
  {
   "cell_type": "markdown",
   "id": "a040c15c",
   "metadata": {},
   "source": [
    "### practice set of tuple and list"
   ]
  },
  {
   "cell_type": "code",
   "execution_count": 3,
   "id": "e58da8ed",
   "metadata": {},
   "outputs": [
    {
     "name": "stdout",
     "output_type": "stream",
     "text": [
      "enter fruid name:\n",
      "enter fruid name:\n",
      "enter fruid name:\n",
      "enter fruid name:\n",
      "enter fruid name:\n"
     ]
    }
   ],
   "source": [
    "fruits=[]\n",
    "f1=input(\"enter fruit name:\")\n",
    "fruits.append(f1)\n",
    "f2=input(\"enter fruit name:\")\n",
    "fruits.append(f2)\n",
    "f3=input(\"enter fruit name:\")\n",
    "fruits.append(f3)\n",
    "f4=input(\"enter fruit name:\")\n",
    "fruits.append(f4)\n",
    "f5=input(\"enter fruit name:\")\n",
    "fruits.append(f5)\n",
    "\n",
    "\n"
   ]
  },
  {
   "cell_type": "code",
   "execution_count": 5,
   "id": "c888741b",
   "metadata": {},
   "outputs": [
    {
     "name": "stdout",
     "output_type": "stream",
     "text": [
      "['', '', '', '', '']\n"
     ]
    }
   ],
   "source": [
    "print(fruits)"
   ]
  },
  {
   "cell_type": "code",
   "execution_count": 15,
   "id": "5ba8def3",
   "metadata": {},
   "outputs": [
    {
     "name": "stdout",
     "output_type": "stream",
     "text": [
      "enter fruid name:6\n",
      "enter fruid name:54\n",
      "enter fruid name:78\n",
      "[6.0, 54.0, 78.0]\n"
     ]
    }
   ],
   "source": [
    "marks=[]\n",
    "f1=float(input(\"enter fruid name:\"))\n",
    "marks.append(f1)\n",
    "f2=float(input(\"enter fruid name:\"))\n",
    "marks.append(f2)\n",
    "f3=float(input(\"enter fruid name:\"))\n",
    "marks.append(f3)\n",
    "\n",
    "marks.sort()\n",
    "print(marks)"
   ]
  },
  {
   "cell_type": "code",
   "execution_count": 16,
   "id": "5cc7ff64",
   "metadata": {},
   "outputs": [
    {
     "name": "stdout",
     "output_type": "stream",
     "text": [
      "194\n"
     ]
    }
   ],
   "source": [
    "s=[4,56,78,56]\n",
    "print(sum(s))"
   ]
  },
  {
   "cell_type": "code",
   "execution_count": 17,
   "id": "ba99d5ce",
   "metadata": {},
   "outputs": [
    {
     "name": "stdout",
     "output_type": "stream",
     "text": [
      "3\n"
     ]
    }
   ],
   "source": [
    "a = (7, 0, 8, 0, 0, 9)\n",
    "print(a.count(0))"
   ]
  },
  {
   "cell_type": "markdown",
   "id": "a32d6104",
   "metadata": {},
   "source": [
    "### DICTIONARY "
   ]
  },
  {
   "cell_type": "code",
   "execution_count": 2,
   "id": "802c0b71",
   "metadata": {},
   "outputs": [
    {
     "name": "stdout",
     "output_type": "stream",
     "text": [
      "{'harshit': 100, 'rohan': 50, 'rohit': 55.67, 0: 'ronak'} <class 'dict'>\n"
     ]
    }
   ],
   "source": [
    "marks={\n",
    "    \"harshit\":100,\n",
    "    \"rohan\":50,\n",
    "    \"rohit\":55.67,\n",
    "    0:\"ronak\"\n",
    "}\n",
    "print(marks,type(marks))"
   ]
  },
  {
   "cell_type": "code",
   "execution_count": 3,
   "id": "68b71ff3",
   "metadata": {},
   "outputs": [
    {
     "name": "stdout",
     "output_type": "stream",
     "text": [
      "55.67\n"
     ]
    }
   ],
   "source": [
    "print(marks[\"rohit\"])"
   ]
  },
  {
   "cell_type": "code",
   "execution_count": 4,
   "id": "938ad432",
   "metadata": {},
   "outputs": [
    {
     "name": "stdout",
     "output_type": "stream",
     "text": [
      "ronak\n"
     ]
    }
   ],
   "source": [
    "print(marks[0])"
   ]
  },
  {
   "cell_type": "code",
   "execution_count": 5,
   "id": "95d0dc30",
   "metadata": {},
   "outputs": [
    {
     "name": "stdout",
     "output_type": "stream",
     "text": [
      "dict_items([('harshit', 100), ('rohan', 50), ('rohit', 55.67), (0, 'ronak')])\n"
     ]
    }
   ],
   "source": [
    "print(marks.items())"
   ]
  },
  {
   "cell_type": "code",
   "execution_count": 6,
   "id": "24119d4c",
   "metadata": {},
   "outputs": [
    {
     "name": "stdout",
     "output_type": "stream",
     "text": [
      "dict_keys(['harshit', 'rohan', 'rohit', 0])\n"
     ]
    }
   ],
   "source": [
    "print(marks.keys())"
   ]
  },
  {
   "cell_type": "code",
   "execution_count": 7,
   "id": "a4263078",
   "metadata": {},
   "outputs": [
    {
     "name": "stdout",
     "output_type": "stream",
     "text": [
      "dict_values([100, 50, 55.67, 'ronak'])\n"
     ]
    }
   ],
   "source": [
    "print(marks.values())"
   ]
  },
  {
   "cell_type": "code",
   "execution_count": 8,
   "id": "43396b28",
   "metadata": {},
   "outputs": [
    {
     "name": "stdout",
     "output_type": "stream",
     "text": [
      "{'harshit': 99.5, 'rohan': 50, 'rohit': 55.67, 0: 'ronak', 'harman': 56}\n"
     ]
    }
   ],
   "source": [
    "marks.update({\"harshit\":99.5,\"harman\":56})\n",
    "print(marks)"
   ]
  },
  {
   "cell_type": "code",
   "execution_count": 9,
   "id": "85d76566",
   "metadata": {},
   "outputs": [
    {
     "name": "stdout",
     "output_type": "stream",
     "text": [
      "50\n"
     ]
    }
   ],
   "source": [
    "print(marks.get(\"rohan\"))"
   ]
  },
  {
   "cell_type": "code",
   "execution_count": 11,
   "id": "bb66528f",
   "metadata": {},
   "outputs": [
    {
     "name": "stdout",
     "output_type": "stream",
     "text": [
      "50\n",
      "50\n"
     ]
    }
   ],
   "source": [
    "print(marks[\"rohan\"]) # this will give error\n",
    "print(marks.get(\"rohan\"))#this will give none"
   ]
  },
  {
   "cell_type": "code",
   "execution_count": 42,
   "id": "458e7bdd",
   "metadata": {},
   "outputs": [],
   "source": [
    "d={}#empty dict\n",
    "s={1,}#empty set\n",
    "set1=set()"
   ]
  },
  {
   "cell_type": "code",
   "execution_count": 43,
   "id": "f9fa29b7",
   "metadata": {},
   "outputs": [
    {
     "name": "stdout",
     "output_type": "stream",
     "text": [
      "<class 'dict'> <class 'set'> <class 'set'>\n"
     ]
    }
   ],
   "source": [
    "print(type(d),type(s),type(set1))"
   ]
  },
  {
   "cell_type": "code",
   "execution_count": 44,
   "id": "948bb570",
   "metadata": {},
   "outputs": [
    {
     "name": "stdout",
     "output_type": "stream",
     "text": [
      "{0, 66, 3, 4, 5, 6, 8, 9, 44.5, 'harry'}\n"
     ]
    }
   ],
   "source": [
    "s1={3,4,5,66,6,66,6,6,8,9,0,\"harry\",44.5}\n",
    "print(s1)"
   ]
  },
  {
   "cell_type": "code",
   "execution_count": 45,
   "id": "a244db61",
   "metadata": {},
   "outputs": [
    {
     "name": "stdout",
     "output_type": "stream",
     "text": [
      "{1} <class 'set'>\n"
     ]
    }
   ],
   "source": [
    "s1.add(True)\n",
    "print(s,type(s))"
   ]
  },
  {
   "cell_type": "markdown",
   "id": "5daea65d",
   "metadata": {},
   "source": [
    "#### properties of set\n",
    "#### 1)un ordered\n",
    "#### 2) Sets are unindexed \n",
    "#### 3) There is no way to change items in sets.\n",
    "#### 4) Sets cannot contain duplicate values.\n"
   ]
  },
  {
   "cell_type": "code",
   "execution_count": 46,
   "id": "1699affe",
   "metadata": {},
   "outputs": [],
   "source": [
    "s2={5,6,7,8,9,4,\"harry\",True}"
   ]
  },
  {
   "cell_type": "code",
   "execution_count": 47,
   "id": "326405fe",
   "metadata": {},
   "outputs": [
    {
     "name": "stdout",
     "output_type": "stream",
     "text": [
      "{True, 4, 5, 6, 8, 9, 'harry'}\n"
     ]
    }
   ],
   "source": [
    "print(s1.intersection(s2))"
   ]
  },
  {
   "cell_type": "code",
   "execution_count": 48,
   "id": "7cbffba7",
   "metadata": {},
   "outputs": [
    {
     "name": "stdout",
     "output_type": "stream",
     "text": [
      "{0, True, 66, 3, 4, 5, 6, 7, 8, 9, 44.5, 'harry'}\n"
     ]
    }
   ],
   "source": [
    "print(s1.union(s2))"
   ]
  },
  {
   "cell_type": "markdown",
   "id": "6d369774",
   "metadata": {},
   "source": [
    "### practice set and dictionary \n"
   ]
  },
  {
   "cell_type": "code",
   "execution_count": 50,
   "id": "32b3170a",
   "metadata": {},
   "outputs": [
    {
     "name": "stdout",
     "output_type": "stream",
     "text": [
      "enter the word to get there meaning:billi\n",
      "cat\n"
     ]
    }
   ],
   "source": [
    "# 1\n",
    "words={\n",
    "    \"billi\":\"cat\",\n",
    "    \"madad\":\"help\",\n",
    "    \"chashma\": \"specticals\"\n",
    "}\n",
    "word=input(\"enter the word to get there meaning:\")\n",
    "print(words[word])"
   ]
  },
  {
   "cell_type": "code",
   "execution_count": 1,
   "id": "b22efcc1",
   "metadata": {},
   "outputs": [
    {
     "name": "stdout",
     "output_type": "stream",
     "text": [
      "enter any number:4\n",
      "enter any number:5\n",
      "enter any number:6\n",
      "enter any number:7\n",
      "enter any number:8\n",
      "enter any number:9\n",
      "enter any number:5\n",
      "enter any number:1\n",
      "{1.0, 4.0, 5.0, 6.0, 7.0, 8.0, 9.0}\n"
     ]
    }
   ],
   "source": [
    "# 2\n",
    "s=set()\n",
    "n1=float(input(\"enter any number:\"))\n",
    "s.add(n1)\n",
    "n2=float(input(\"enter any number:\"))\n",
    "s.add(n2)\n",
    "n3=float(input(\"enter any number:\"))\n",
    "s.add(n3)\n",
    "n4=float(input(\"enter any number:\"))\n",
    "s.add(n4)\n",
    "n5=float(input(\"enter any number:\"))\n",
    "s.add(n5)\n",
    "n6=float(input(\"enter any number:\"))\n",
    "s.add(n6)\n",
    "n7=float(input(\"enter any number:\"))\n",
    "s.add(n7)\n",
    "n8=float(input(\"enter any number:\"))\n",
    "s.add(n8)\n",
    "print(s)\n"
   ]
  },
  {
   "cell_type": "code",
   "execution_count": 2,
   "id": "78a1a730",
   "metadata": {},
   "outputs": [
    {
     "name": "stdout",
     "output_type": "stream",
     "text": [
      "{18, '18'}\n"
     ]
    }
   ],
   "source": [
    "#3\n",
    "s1={18,\"18\"}\n",
    "print(s1)"
   ]
  },
  {
   "cell_type": "code",
   "execution_count": 3,
   "id": "d6405aa5",
   "metadata": {},
   "outputs": [
    {
     "name": "stdout",
     "output_type": "stream",
     "text": [
      "{20, '20'}\n"
     ]
    }
   ],
   "source": [
    "#4\n",
    "s = set()\n",
    "s.add(20)\n",
    "s.add(20.0)\n",
    "s.add('20') # length of s after these operations?\n",
    "print(s)"
   ]
  },
  {
   "cell_type": "code",
   "execution_count": 4,
   "id": "7aeb9777",
   "metadata": {},
   "outputs": [
    {
     "name": "stdout",
     "output_type": "stream",
     "text": [
      "enter your name:harshit\n",
      "enter your favorite language:c++\n",
      "enter your name:aman\n",
      "enter your favorite language:k\n",
      "enter your name:h\n",
      "enter your favorite language:K\n",
      "enter your name:rohan\n",
      "enter your favorite language:python\n",
      "enter your name:rohit\n",
      "enter your favorite language:html\n",
      "{'harshit': 'c++', 'aman': 'k', 'h': 'K', 'rohan': 'python', 'rohit': 'html'}\n"
     ]
    }
   ],
   "source": [
    "#6\n",
    "dict={}\n",
    "name=input(\"enter your name:\")\n",
    "language=input(\"enter your favorite language:\")\n",
    "dict.update({name:language})\n",
    "\n",
    "name=input(\"enter your name:\")\n",
    "language=input(\"enter your favorite language:\")\n",
    "dict.update({name:language})\n",
    "\n",
    "name=input(\"enter your name:\")\n",
    "language=input(\"enter your favorite language:\")\n",
    "dict.update({name:language})\n",
    "\n",
    "name=input(\"enter your name:\")\n",
    "language=input(\"enter your favorite language:\")\n",
    "dict.update({name:language})\n",
    "\n",
    "name=input(\"enter your name:\")\n",
    "language=input(\"enter your favorite language:\")\n",
    "dict.update({name:language})\n",
    "\n",
    "print(dict)\n"
   ]
  },
  {
   "cell_type": "code",
   "execution_count": 5,
   "id": "3d5ae536",
   "metadata": {},
   "outputs": [
    {
     "ename": "TypeError",
     "evalue": "unhashable type: 'list'",
     "output_type": "error",
     "traceback": [
      "\u001b[1;31m---------------------------------------------------------------------------\u001b[0m",
      "\u001b[1;31mTypeError\u001b[0m                                 Traceback (most recent call last)",
      "Cell \u001b[1;32mIn[5], line 1\u001b[0m\n\u001b[1;32m----> 1\u001b[0m s \u001b[38;5;241m=\u001b[39m {\u001b[38;5;241m8\u001b[39m, \u001b[38;5;241m7\u001b[39m, \u001b[38;5;241m12\u001b[39m, \u001b[38;5;124m\"\u001b[39m\u001b[38;5;124mHarry\u001b[39m\u001b[38;5;124m\"\u001b[39m, [\u001b[38;5;241m1\u001b[39m,\u001b[38;5;241m2\u001b[39m]}\n",
      "\u001b[1;31mTypeError\u001b[0m: unhashable type: 'list'"
     ]
    }
   ],
   "source": [
    "s = {8, 7, 12, \"Harry\", [1,2]}\n"
   ]
  },
  {
   "cell_type": "markdown",
   "id": "40526340",
   "metadata": {},
   "source": [
    "### Conditional Expression"
   ]
  },
  {
   "cell_type": "code",
   "execution_count": 8,
   "id": "5f269577",
   "metadata": {},
   "outputs": [
    {
     "name": "stdout",
     "output_type": "stream",
     "text": [
      "enter your age:-4\n",
      "negative age is not possible \n",
      "end of programm\n"
     ]
    }
   ],
   "source": [
    "age=int(input(\"enter your age:\"))\n",
    "if(age>=18):\n",
    "    print(\"you are eligible\")\n",
    "elif(age<0):\n",
    "    print(\"negative age is not possible \")\n",
    "elif(age==0):\n",
    "    print(\"0 age is not possible \")\n",
    "else:\n",
    "    print(\"not eligible\")\n",
    "    \n",
    "print(\"end of programm\")\n",
    "    \n",
    "    "
   ]
  },
  {
   "cell_type": "code",
   "execution_count": 14,
   "id": "2ec0a28a",
   "metadata": {},
   "outputs": [
    {
     "name": "stdout",
     "output_type": "stream",
     "text": [
      "enter your age:4\n",
      "age is an even number\n",
      "not eligible\n",
      "end of programm\n"
     ]
    }
   ],
   "source": [
    "age=int(input(\"enter your age:\"))\n",
    "# if stat 1\n",
    "if(age%2!=0):\n",
    "    print(\"age is an odd number\")\n",
    "# end of if stat 1\n",
    "\n",
    "# if stat 2\n",
    "if(age%2==0):\n",
    "    print(\"age is an even number\")\n",
    "\n",
    "# end of # if stat 2\n",
    "\n",
    "# if stat 3\n",
    "\n",
    "\n",
    "if(age>=18):\n",
    "    print(\"you are eligible\")\n",
    "\n",
    "elif(age<0):\n",
    "    print(\"negative age is not possible \")\n",
    "elif(age==0):\n",
    "    print(\"0 age is not possible \")\n",
    "else:\n",
    "    print(\"not eligible\")\n",
    "    \n",
    "# end of # if stat 3\n",
    "    \n",
    "print(\"end of programm\")"
   ]
  },
  {
   "cell_type": "markdown",
   "id": "52ad4f0d",
   "metadata": {},
   "source": [
    "### conditional practice"
   ]
  },
  {
   "cell_type": "code",
   "execution_count": 23,
   "id": "159f5b29",
   "metadata": {},
   "outputs": [
    {
     "name": "stdout",
     "output_type": "stream",
     "text": [
      "enter number1:78.5786\n",
      "enter number2:78.66585\n",
      "enter number3:78.656\n",
      "enter number4:78.5475\n",
      "n1 is the the greatest which is: 78.66585\n",
      "end of programm\n"
     ]
    }
   ],
   "source": [
    "# 1\n",
    "n1=float(input(\"enter number1:\"))\n",
    "n2=float(input(\"enter number2:\"))\n",
    "n3=float(input(\"enter number3:\"))\n",
    "n4=float(input(\"enter number4:\"))\n",
    "if (n1>n2 and n1>n3 and n1>n4):\n",
    "    print(\"n1 is the the greatest which is:\",n1)\n",
    "    \n",
    "elif (n2>n1 and n2>n3 and n2>n4):\n",
    "    print(\"n1 is the the greatest which is:\",n2)\n",
    "    \n",
    "elif (n3>n2 and n3>n1 and n3>n4):\n",
    "    print(\"n1 is the the greatest which is:\",n3)\n",
    "    \n",
    "elif (n4>n2 and n4>n3 and n4>n1):\n",
    "    print(\"n1 is the the greatest which is:\",n4)\n",
    "    \n",
    "print(\"end of programm\")\n",
    "\n",
    "\n"
   ]
  },
  {
   "cell_type": "code",
   "execution_count": 30,
   "id": "fe48e8e9",
   "metadata": {},
   "outputs": [
    {
     "name": "stdout",
     "output_type": "stream",
     "text": [
      "enter the percentage of s1:45\n",
      "enter the percentage of s2:56\n",
      "enter the percentage of s3:20\n",
      "fail: 40.333333333333336\n",
      "end result\n"
     ]
    }
   ],
   "source": [
    "#2\n",
    "m1=float(input(\"enter the percentage of s1:\"))\n",
    "m2=float(input(\"enter the percentage of s2:\"))\n",
    "m3=float(input(\"enter the percentage of s3:\"))\n",
    "total_percentage=(m1+m2+m3)/3\n",
    "if(m1>=33 and m2>=33 and m3>=33 and (m1+m2+m3)/3>= 40 ):\n",
    "    print(\"pass:\",total_percentage)\n",
    "else:\n",
    "    print(\"fail:\",total_percentage)\n",
    "    \n",
    "print(\"end result\")"
   ]
  },
  {
   "cell_type": "code",
   "execution_count": 31,
   "id": "3de65da5",
   "metadata": {},
   "outputs": [
    {
     "name": "stdout",
     "output_type": "stream",
     "text": [
      "write a comment:hellow, avail buy now offer\n",
      "spam hellow, avail buy now offer\n"
     ]
    }
   ],
   "source": [
    "#3\n",
    "p1=\"Make a lot of money”\"\n",
    "p2=\"buy now\"\n",
    "p3=\"subscribe this\"\n",
    "p4=\"click this\"\n",
    "comment=input(\"write a comment:\")\n",
    "if(p1 in comment or(p2 in comment)or(p3 in comment)or(p4 in comment)):\n",
    "    print(\"spam=>\",comment)\n",
    "\n",
    "else:\n",
    "    print(\"not a spam=>\",comment)\n"
   ]
  },
  {
   "cell_type": "code",
   "execution_count": 32,
   "id": "515e6017",
   "metadata": {},
   "outputs": [
    {
     "name": "stdout",
     "output_type": "stream",
     "text": [
      "enetr your username:h\n",
      "<10\n"
     ]
    }
   ],
   "source": [
    "#4\n",
    "username=input(\"enetr your username:\")\n",
    "if(len(username)<10):\n",
    "    print(\"<10\")\n",
    "else:(\"well done\")"
   ]
  },
  {
   "cell_type": "code",
   "execution_count": 34,
   "id": "192a5db8",
   "metadata": {},
   "outputs": [
    {
     "name": "stdout",
     "output_type": "stream",
     "text": [
      "enter your name:harshit\n",
      "name is in list harshit\n"
     ]
    }
   ],
   "source": [
    "#5\n",
    "l=[\"harry\",\"rohan\",\"rohit\",\"harshit\",\"mayank\"]\n",
    "name=input(\"enter your name:\")\n",
    "if(name in l):\n",
    "    print(\"name is in list\",name)\n",
    "else:\n",
    "    print(\"name is not in list\")"
   ]
  },
  {
   "cell_type": "code",
   "execution_count": 35,
   "id": "91cad915",
   "metadata": {},
   "outputs": [
    {
     "name": "stdout",
     "output_type": "stream",
     "text": [
      "Enter your marks: 60\n",
      "Your grade is: C\n"
     ]
    }
   ],
   "source": [
    "#6\n",
    "marks = int(input(\"Enter your marks: \"))\n",
    "\n",
    "if(marks<=100 and marks>=90):\n",
    "    grade = \"Ex\"\n",
    "elif(marks<90 and marks>=80):\n",
    "    grade = \"A\"\n",
    "elif(marks<80 and marks>=70):\n",
    "    grade = \"B\"\n",
    "elif(marks<70 and marks>=60):\n",
    "    grade = \"C\"\n",
    "elif(marks<60 and marks>=50):\n",
    "    grade = \"D\"\n",
    "elif(marks<50):\n",
    "    grade = \"F\"\n",
    "\n",
    "print(\"Your grade is:\", grade)"
   ]
  },
  {
   "cell_type": "code",
   "execution_count": 37,
   "id": "0025d0e6",
   "metadata": {},
   "outputs": [
    {
     "name": "stdout",
     "output_type": "stream",
     "text": [
      "Enter the post: HARSHIT\n",
      "This post is talking about harshit\n"
     ]
    }
   ],
   "source": [
    "post = input(\"Enter the post: \")\n",
    "\n",
    "\n",
    "\n",
    "if(\"Harshit\".lower() in post.lower()):\n",
    "    print(\"This post is talking about harshit\")\n",
    "\n",
    "else:\n",
    "    print(\"This post is not talking about harshit\")"
   ]
  },
  {
   "cell_type": "markdown",
   "id": "870dd42c",
   "metadata": {},
   "source": [
    "### loops()"
   ]
  },
  {
   "cell_type": "code",
   "execution_count": 40,
   "id": "ae4fab50",
   "metadata": {},
   "outputs": [
    {
     "name": "stdout",
     "output_type": "stream",
     "text": [
      "1\n",
      "2\n",
      "3\n",
      "4\n",
      "5\n"
     ]
    }
   ],
   "source": [
    "for i in range(1,6):\n",
    "    print(i)"
   ]
  },
  {
   "cell_type": "code",
   "execution_count": 1,
   "id": "8451243e",
   "metadata": {},
   "outputs": [
    {
     "name": "stdout",
     "output_type": "stream",
     "text": [
      "1\n",
      "2\n",
      "3\n"
     ]
    }
   ],
   "source": [
    "i=1\n",
    "while(i<4):\n",
    "    print(i)\n",
    "    i+=1"
   ]
  },
  {
   "cell_type": "code",
   "execution_count": 3,
   "id": "a0343911",
   "metadata": {},
   "outputs": [
    {
     "name": "stdout",
     "output_type": "stream",
     "text": [
      "harshit\n",
      "harshit\n",
      "harshit\n",
      "harshit\n",
      "harshit\n"
     ]
    }
   ],
   "source": [
    "i=0\n",
    "for i in range(0,5):\n",
    "    print(\"harshit\")"
   ]
  },
  {
   "cell_type": "code",
   "execution_count": 5,
   "id": "7e4bb3cf",
   "metadata": {},
   "outputs": [
    {
     "name": "stdout",
     "output_type": "stream",
     "text": [
      "harshit\n",
      "harshit\n",
      "harshit\n",
      "harshit\n",
      "harshit\n"
     ]
    }
   ],
   "source": [
    "i=0\n",
    "while(i<5):\n",
    "    print(\"harshit\")\n",
    "    i+=1 #i=i+1"
   ]
  },
  {
   "cell_type": "code",
   "execution_count": 6,
   "id": "febc68bc",
   "metadata": {},
   "outputs": [
    {
     "name": "stdout",
     "output_type": "stream",
     "text": [
      "apple\n",
      "orange\n",
      "green\n",
      "4\n",
      "6\n",
      "@\n",
      "=!\n",
      "False\n"
     ]
    }
   ],
   "source": [
    "items=[\"apple\",\"orange\",\"green\",4,\"6\",'@',\"=!\",False]\n",
    "i=0\n",
    "while(i<len(items)):\n",
    "    print(items[i])\n",
    "    i+=1\n"
   ]
  },
  {
   "cell_type": "code",
   "execution_count": 7,
   "id": "978b3958",
   "metadata": {},
   "outputs": [
    {
     "name": "stdout",
     "output_type": "stream",
     "text": [
      "apple\n",
      "orange\n",
      "green\n",
      "4\n",
      "6\n",
      "@\n",
      "=!\n",
      "False\n"
     ]
    }
   ],
   "source": [
    "items=[\"apple\",\"orange\",\"green\",4,\"6\",'@',\"=!\",False]\n",
    "i=0\n",
    "for i in range(0,len(items)):\n",
    "    print(items[i])\n",
    "    "
   ]
  },
  {
   "cell_type": "code",
   "execution_count": 8,
   "id": "9304ab62",
   "metadata": {},
   "outputs": [
    {
     "name": "stdout",
     "output_type": "stream",
     "text": [
      "h\n",
      "a\n",
      "r\n",
      "s\n",
      "h\n",
      "i\n",
      "t\n"
     ]
    }
   ],
   "source": [
    "s=\"harshit\"\n",
    "for i in s:\n",
    "    print(i)"
   ]
  },
  {
   "cell_type": "markdown",
   "id": "0e02eb98",
   "metadata": {},
   "source": [
    "## for loop with else\n"
   ]
  },
  {
   "cell_type": "code",
   "execution_count": 9,
   "id": "e1ecda20",
   "metadata": {},
   "outputs": [
    {
     "name": "stdout",
     "output_type": "stream",
     "text": [
      "2\n",
      "4\n",
      "5\n",
      "6\n",
      "7\n",
      "done\n"
     ]
    }
   ],
   "source": [
    "l=[2,4,5,6,7]\n",
    "for item in l:\n",
    "    print(item)\n",
    "else:\n",
    "    print(\"done\")"
   ]
  },
  {
   "cell_type": "markdown",
   "id": "aeeeee82",
   "metadata": {},
   "source": [
    "### break statement"
   ]
  },
  {
   "cell_type": "code",
   "execution_count": 12,
   "id": "d9b26d25",
   "metadata": {},
   "outputs": [
    {
     "name": "stdout",
     "output_type": "stream",
     "text": [
      "0\n",
      "6\n",
      "12\n",
      "18\n",
      "24\n"
     ]
    }
   ],
   "source": [
    "for i in range(0,100,6):\n",
    "    if(i==30):\n",
    "        break\n",
    "    print(i)\n",
    "    "
   ]
  },
  {
   "cell_type": "code",
   "execution_count": 13,
   "id": "93c5a9ae",
   "metadata": {},
   "outputs": [
    {
     "name": "stdout",
     "output_type": "stream",
     "text": [
      "0\n",
      "6\n",
      "12\n",
      "18\n",
      "24\n",
      "36\n",
      "42\n",
      "48\n",
      "54\n",
      "60\n",
      "66\n",
      "72\n",
      "78\n",
      "84\n",
      "90\n",
      "96\n"
     ]
    }
   ],
   "source": [
    "for i in range(0,100,6):\n",
    "    if(i==30):\n",
    "        continue\n",
    "    print(i)\n",
    "    "
   ]
  },
  {
   "cell_type": "code",
   "execution_count": 14,
   "id": "42d31bf4",
   "metadata": {},
   "outputs": [],
   "source": [
    "for i in range(0,100,6):\n",
    "    pass\n",
    "    "
   ]
  },
  {
   "cell_type": "markdown",
   "id": "470e3bad",
   "metadata": {},
   "source": [
    "## loop practice"
   ]
  },
  {
   "cell_type": "code",
   "execution_count": 18,
   "id": "ba98f52b",
   "metadata": {},
   "outputs": [
    {
     "name": "stdout",
     "output_type": "stream",
     "text": [
      "enter a number:67\n",
      "67 X 1 = 67\n",
      "67 X 2 = 134\n",
      "67 X 3 = 201\n",
      "67 X 4 = 268\n",
      "67 X 5 = 335\n",
      "67 X 6 = 402\n",
      "67 X 7 = 469\n",
      "67 X 8 = 536\n",
      "67 X 9 = 603\n",
      "67 X 10 = 670\n"
     ]
    }
   ],
   "source": [
    "n=int(input(\"enter a number:\"))\n",
    "for i in range(1,11):\n",
    "    print(n ,\"X\", i,\"=\", n*i)"
   ]
  },
  {
   "cell_type": "code",
   "execution_count": 20,
   "id": "5083cf92",
   "metadata": {},
   "outputs": [
    {
     "name": "stdout",
     "output_type": "stream",
     "text": [
      "enter a number:6\n",
      "6X1=6\n",
      "6X2=12\n",
      "6X3=18\n",
      "6X4=24\n",
      "6X5=30\n",
      "6X6=36\n",
      "6X7=42\n",
      "6X8=48\n",
      "6X9=54\n",
      "6X10=60\n"
     ]
    }
   ],
   "source": [
    "# by using f string\n",
    "n=int(input(\"enter a number:\"))\n",
    "for i in range(1,11):\n",
    "    print(f\"{n}X{i}={n*i}\")"
   ]
  },
  {
   "cell_type": "code",
   "execution_count": 21,
   "id": "a1a230c9",
   "metadata": {},
   "outputs": [
    {
     "name": "stdout",
     "output_type": "stream",
     "text": [
      "hellow Soham\n",
      "hellow Sachin\n"
     ]
    }
   ],
   "source": [
    "l = [\"Harry\", \"Soham\", \"Sachin\", \"Rahul\"]\n",
    "for name in l:\n",
    "    if(name.startswith(\"S\")):\n",
    "        print(\"hellow\",name)\n",
    "    "
   ]
  },
  {
   "cell_type": "code",
   "execution_count": 22,
   "id": "d0613300",
   "metadata": {},
   "outputs": [
    {
     "name": "stdout",
     "output_type": "stream",
     "text": [
      "6X1=6\n",
      "6X2=12\n",
      "6X3=18\n",
      "6X4=24\n",
      "6X5=30\n",
      "6X6=36\n",
      "6X7=42\n",
      "6X8=48\n",
      "6X9=54\n",
      "6X10=60\n"
     ]
    }
   ],
   "source": [
    "i=1\n",
    "while(i<=10):\n",
    "    print(f\"{n}X{i}={n*i}\")\n",
    "    i+=1\n",
    "        "
   ]
  },
  {
   "cell_type": "code",
   "execution_count": 30,
   "id": "30f4d691",
   "metadata": {},
   "outputs": [
    {
     "name": "stdout",
     "output_type": "stream",
     "text": [
      "enter a number:9\n",
      "number is prime\n"
     ]
    }
   ],
   "source": [
    "n=int(input(\"enter a number:\"))\n",
    "for i in range(2,n):\n",
    "    if(n%i==0):\n",
    "        print(\"number is not prime\")\n",
    "    else:\n",
    "        print(\"number is prime\")\n",
    "        break\n",
    "        \n",
    "        "
   ]
  },
  {
   "cell_type": "code",
   "execution_count": 9,
   "id": "4f8e7b5f",
   "metadata": {},
   "outputs": [
    {
     "name": "stdout",
     "output_type": "stream",
     "text": [
      "enter a number:5\n",
      "sum: 15\n"
     ]
    }
   ],
   "source": [
    "n=int(input(\"enter a number:\"))\n",
    "i=1\n",
    "sum=0\n",
    "while(i<=n):\n",
    "    sum+=i\n",
    "    i+=1\n",
    "print(\"sum:\",sum)"
   ]
  },
  {
   "cell_type": "code",
   "execution_count": 13,
   "id": "109d1304",
   "metadata": {},
   "outputs": [
    {
     "name": "stdout",
     "output_type": "stream",
     "text": [
      "enter a number:5\n",
      "factorial of 5 = 120\n"
     ]
    }
   ],
   "source": [
    "n=int(input(\"enter a number:\"))\n",
    "i=1\n",
    "fact=1\n",
    "while(i<=n):\n",
    "    fact=fact*i\n",
    "    i+=1\n",
    "print(\"factorial of\",n,\"=\",fact)\n",
    "    "
   ]
  },
  {
   "cell_type": "code",
   "execution_count": 18,
   "id": "ae6a9c5e",
   "metadata": {},
   "outputs": [
    {
     "name": "stdout",
     "output_type": "stream",
     "text": [
      "enter a number:6\n",
      "factorial of 6 is=720\n"
     ]
    }
   ],
   "source": [
    "n=int(input(\"enter a number:\"))\n",
    "i=1\n",
    "fact=1\n",
    "while(i<=n):\n",
    "    fact=fact*i\n",
    "    i+=1\n",
    "print(f\"factorial of {n} is={fact}\")"
   ]
  },
  {
   "cell_type": "code",
   "execution_count": 20,
   "id": "3fd0732c",
   "metadata": {},
   "outputs": [
    {
     "name": "stdout",
     "output_type": "stream",
     "text": [
      "enter a number:5\n",
      "5X10=50\n",
      "5X9=45\n",
      "5X8=40\n",
      "5X7=35\n",
      "5X6=30\n",
      "5X5=25\n",
      "5X4=20\n",
      "5X3=15\n",
      "5X2=10\n",
      "5X1=5\n"
     ]
    }
   ],
   "source": [
    "n=int(input(\"enter a number:\"))\n",
    "for i in range(1,11):\n",
    "    print(f\"{n}X{11-i}={n*(11-i)}\")"
   ]
  },
  {
   "cell_type": "markdown",
   "id": "b3718cf3",
   "metadata": {},
   "source": [
    "## function and recursion\n"
   ]
  },
  {
   "cell_type": "code",
   "execution_count": 1,
   "id": "9c201d54",
   "metadata": {},
   "outputs": [],
   "source": [
    "# function defination\n",
    "def avg_of_numbers():\n",
    "    n1=int(input(\"enter a number:\"))\n",
    "    n2=int(input(\"enter a number:\"))\n",
    "    n3=int(input(\"enter a number:\"))\n",
    "    avg=(n1+n2+n3)/3\n",
    "    print(avg)\n",
    "    "
   ]
  },
  {
   "cell_type": "code",
   "execution_count": 2,
   "id": "13ada443",
   "metadata": {},
   "outputs": [
    {
     "name": "stdout",
     "output_type": "stream",
     "text": [
      "enter a number:5\n",
      "enter a number:6\n",
      "enter a number:7\n",
      "6.0\n"
     ]
    }
   ],
   "source": [
    "# function call\n",
    "avg_of_numbers()"
   ]
  },
  {
   "cell_type": "code",
   "execution_count": 6,
   "id": "ed0482f5",
   "metadata": {},
   "outputs": [
    {
     "name": "stdout",
     "output_type": "stream",
     "text": [
      "good day harshit\n"
     ]
    }
   ],
   "source": [
    "def goodday(name):\n",
    "    print(\"good day\" +\" \"+ name)\n",
    "    \n",
    "    \n",
    "goodday(\"harshit\")    \n",
    "    \n",
    "    "
   ]
  },
  {
   "cell_type": "code",
   "execution_count": 14,
   "id": "29734ce2",
   "metadata": {},
   "outputs": [
    {
     "name": "stdout",
     "output_type": "stream",
     "text": [
      "good day harshit thank you\n",
      "thank you\n",
      "done\n",
      "good day Harry Thank you\n",
      "Thank you\n",
      "done\n"
     ]
    }
   ],
   "source": [
    "def good_day(name,ending):\n",
    "    print(\"good day\" +\" \"+ name+\" \"+ending)\n",
    "    print(ending)\n",
    "    return \"done\"\n",
    "    \n",
    "    \n",
    "a=good_day(\"harshit\",\"thank you\")    \n",
    "print(a)\n",
    "\n",
    "b= good_day(\"Harry\", \"Thank you\") \n",
    "print(b)"
   ]
  },
  {
   "cell_type": "code",
   "execution_count": 15,
   "id": "2cfd82f1",
   "metadata": {},
   "outputs": [
    {
     "name": "stdout",
     "output_type": "stream",
     "text": [
      "Good Day, Harry\n",
      "Thanks\n",
      "Good Day, Rohan\n",
      "Thank you\n"
     ]
    }
   ],
   "source": [
    "def goodDay(name, ending=\"Thank you\"):\n",
    "    print(f\"Good Day, {name}\")\n",
    "    print(ending)\n",
    "\n",
    "goodDay(\"Harry\", \"Thanks\")\n",
    "goodDay(\"Rohan\")"
   ]
  },
  {
   "cell_type": "markdown",
   "id": "eb846900",
   "metadata": {},
   "source": [
    "### recursion"
   ]
  },
  {
   "cell_type": "code",
   "execution_count": 18,
   "id": "e905c9a6",
   "metadata": {},
   "outputs": [
    {
     "name": "stdout",
     "output_type": "stream",
     "text": [
      "enter a number:6\n",
      "factorial of 6 is:720\n"
     ]
    }
   ],
   "source": [
    "def factorial(n):\n",
    "    if(n==1 or n==0):\n",
    "        return 1\n",
    "    return n*factorial(n-1)\n",
    "\n",
    "n=int(input(\"enter a number:\"))\n",
    "print(f\"factorial of {n} is:{factorial(n)}\")\n"
   ]
  },
  {
   "cell_type": "markdown",
   "id": "2d2f3740",
   "metadata": {},
   "source": [
    "### recursion and function practices "
   ]
  },
  {
   "cell_type": "code",
   "execution_count": 2,
   "id": "4f2fa2c1",
   "metadata": {},
   "outputs": [
    {
     "name": "stdout",
     "output_type": "stream",
     "text": [
      "enter a number:5\n",
      "enter a number:6\n",
      "enter a number:7\n",
      "7 is a greatest number\n",
      "7\n"
     ]
    }
   ],
   "source": [
    "#1\n",
    "a=int(input(\"enter a number:\"))\n",
    "b=int(input(\"enter a number:\"))\n",
    "c=int(input(\"enter a number:\"))\n",
    "def greatest_number(a,b,c):\n",
    "    \n",
    "    \n",
    "    if(a>b and a>c):\n",
    "        print(f\"{a} is a greatest number\")\n",
    "        return a\n",
    "    elif(b>a and b>c):\n",
    "        print(f\"{b} is a greatest number\")\n",
    "        return b\n",
    "    elif(c>b and c>a):\n",
    "        print(f\"{c} is a greatest number\")\n",
    "        return c\n",
    "                \n",
    "\n",
    "        \n",
    "n1=greatest_number(a,b,c)\n",
    "print(n1)\n"
   ]
  },
  {
   "cell_type": "code",
   "execution_count": 12,
   "id": "1dfbe7e3",
   "metadata": {},
   "outputs": [
    {
     "name": "stdout",
     "output_type": "stream",
     "text": [
      "enter your farenhite:67\n",
      "19.444444444444443\n"
     ]
    }
   ],
   "source": [
    "#2 \n",
    "f=int(input(\"enter your farenhite:\"))\n",
    "def f_to_c(f):\n",
    "    return 5*(f-32)/9\n",
    "    \n",
    "    \n",
    "   \n",
    "z=f_to_c(f)\n",
    "print(z)"
   ]
  },
  {
   "cell_type": "code",
   "execution_count": 16,
   "id": "ba730c76",
   "metadata": {},
   "outputs": [
    {
     "name": "stdout",
     "output_type": "stream",
     "text": [
      "a\n",
      "b\n",
      "c d "
     ]
    }
   ],
   "source": [
    "#3\n",
    "print(\"a\")\n",
    "print(\"b\")\n",
    "print(\"c\" ,end=\" \")\n",
    "print(\"d\" ,end=\" \")"
   ]
  },
  {
   "cell_type": "code",
   "execution_count": 1,
   "id": "627c7d36",
   "metadata": {},
   "outputs": [
    {
     "name": "stdout",
     "output_type": "stream",
     "text": [
      "enter a number:5\n"
     ]
    },
    {
     "data": {
      "text/plain": [
       "15"
      ]
     },
     "execution_count": 1,
     "metadata": {},
     "output_type": "execute_result"
    }
   ],
   "source": [
    "#6\n",
    "n=int(input(\"enter a number:\"))\n",
    "def sum(n):\n",
    "    if(n==1):\n",
    "        return 1\n",
    "    return sum(n-1)+n\n",
    "\n",
    "\n",
    "sum(5)"
   ]
  },
  {
   "cell_type": "code",
   "execution_count": 2,
   "id": "823d5c48",
   "metadata": {},
   "outputs": [
    {
     "data": {
      "text/plain": [
       "55"
      ]
     },
     "execution_count": 2,
     "metadata": {},
     "output_type": "execute_result"
    }
   ],
   "source": [
    "#7\n",
    "sum(10)"
   ]
  },
  {
   "cell_type": "code",
   "execution_count": 3,
   "id": "20060da9",
   "metadata": {},
   "outputs": [
    {
     "data": {
      "text/plain": [
       "10"
      ]
     },
     "execution_count": 3,
     "metadata": {},
     "output_type": "execute_result"
    }
   ],
   "source": [
    "sum(4)"
   ]
  },
  {
   "cell_type": "code",
   "execution_count": 6,
   "id": "fdca2457",
   "metadata": {},
   "outputs": [
    {
     "name": "stdout",
     "output_type": "stream",
     "text": [
      "enter the value in inch:7\n",
      "12.7\n",
      "12.7\n"
     ]
    }
   ],
   "source": [
    "inch=float(input(\"enter the value in inch:\"))\n",
    "def inch_to_cm(inch):\n",
    "    print(2.54*inch)\n",
    "    return 2.54*inch\n",
    "\n",
    "a=inch_to_cm(5)\n",
    "print(a)"
   ]
  },
  {
   "cell_type": "code",
   "execution_count": 10,
   "id": "dbac66bb",
   "metadata": {},
   "outputs": [
    {
     "data": {
      "text/plain": [
       "['rry', 'rohan', 'rshit', 'shubham']"
      ]
     },
     "execution_count": 10,
     "metadata": {},
     "output_type": "execute_result"
    }
   ],
   "source": [
    "#\n",
    "def rem(l,word):\n",
    "    n=[]\n",
    "    for item in l:\n",
    "        if not (item==word):\n",
    "            n.append(item.strip(word))\n",
    "    return n\n",
    "l=[\"harry\",\"rohan\",\"harshit\",\"shubham\"]            \n",
    "            \n",
    "rem(l,\"ha\")      \n",
    "    \n",
    "    \n",
    "    \n",
    "  \n",
    "\n",
    "        "
   ]
  },
  {
   "cell_type": "code",
   "execution_count": 14,
   "id": "ae1e4dee",
   "metadata": {},
   "outputs": [
    {
     "name": "stdout",
     "output_type": "stream",
     "text": [
      "10X1=10\n",
      "10X2=20\n",
      "10X3=30\n",
      "10X4=40\n",
      "10X5=50\n",
      "10X6=60\n",
      "10X7=70\n",
      "10X8=80\n",
      "10X9=90\n",
      "10X10=100\n"
     ]
    }
   ],
   "source": [
    "#\n",
    "def table(n):\n",
    "    for i in range(1,11):\n",
    "        \n",
    "        print(f\"{n}X{i}={n*i}\")\n",
    "table(10)    "
   ]
  },
  {
   "cell_type": "markdown",
   "id": "0c728255",
   "metadata": {},
   "source": [
    "# file i/o"
   ]
  },
  {
   "cell_type": "code",
   "execution_count": 37,
   "id": "3f5d565c",
   "metadata": {},
   "outputs": [
    {
     "name": "stdout",
     "output_type": "stream",
     "text": [
      "hello how are you \n"
     ]
    }
   ],
   "source": [
    "f = open(\"file.txt\")\n",
    "data = f.read()\n",
    "print(data)\n",
    "f.close()"
   ]
  },
  {
   "cell_type": "code",
   "execution_count": 38,
   "id": "911c5ae8",
   "metadata": {},
   "outputs": [],
   "source": [
    "st=\"hello how are you \"\n",
    "f= open(\"myfile.txt\",\"w\") #write mode\n",
    "f.write(st)\n",
    "f.close()"
   ]
  },
  {
   "cell_type": "code",
   "execution_count": 34,
   "id": "7e2f9749",
   "metadata": {},
   "outputs": [
    {
     "name": "stdout",
     "output_type": "stream",
     "text": [
      "hello how are you \n"
     ]
    }
   ],
   "source": [
    "f = open(\"file.txt\")\n",
    "\n",
    "# lines = f.readlines()\n",
    "# print(lines, type(lines))\n",
    "\n",
    "# line1 = f.readline()\n",
    "# print(line1, type(line1))\n",
    "\n",
    "# line2 = f.readline()\n",
    "# print(line2, type(line2))\n",
    "\n",
    "# line3 = f.readline()\n",
    "# print(line3, type(line3))\n",
    "\n",
    "# line4 = f.readline()\n",
    "# print(line4, type(line4))\n",
    "\n",
    "# line5 = f.readline()\n",
    "# print(line5 ==\"\")\n",
    "\n",
    "line = f.readline()\n",
    "while(line != \"\"):\n",
    "    print(line)\n",
    "    line = f.readline()\n",
    "    \n",
    "\n",
    "f.close()"
   ]
  },
  {
   "cell_type": "code",
   "execution_count": 35,
   "id": "661a1159",
   "metadata": {},
   "outputs": [],
   "source": [
    "st = \"Hey Harry you are amazing\"\n",
    "\n",
    "f = open(\"myfile.txt\", \"a\")\n",
    "\n",
    "f.write(st)\n",
    "\n",
    "f.close()"
   ]
  },
  {
   "cell_type": "code",
   "execution_count": 36,
   "id": "0191166e",
   "metadata": {},
   "outputs": [
    {
     "name": "stdout",
     "output_type": "stream",
     "text": [
      "hello how are you \n",
      "hello how are you \n"
     ]
    }
   ],
   "source": [
    "f = open(\"file.txt\")\n",
    "print(f.read())\n",
    "f.close()\n",
    "\n",
    "# The same can be written using with statement like this:\n",
    "with open(\"file.txt\") as f:\n",
    "    print(f.read())\n",
    "\n",
    "# You dont have to explicitly close the file"
   ]
  },
  {
   "cell_type": "code",
   "execution_count": 39,
   "id": "f0b02a33",
   "metadata": {},
   "outputs": [
    {
     "name": "stdout",
     "output_type": "stream",
     "text": [
      "['hello how are you '] <class 'list'>\n"
     ]
    }
   ],
   "source": [
    "f=open(\"file.txt\")\n",
    "lines=f.readlines()\n",
    "print(lines,type(lines))\n",
    "f.close()"
   ]
  },
  {
   "cell_type": "code",
   "execution_count": 45,
   "id": "707bb029",
   "metadata": {},
   "outputs": [],
   "source": [
    "st = \"Hey Harry you are amazing\"\n",
    "\n",
    "f = open(\"myfile.txt\", \"a\")\n",
    "\n",
    "f.write(st)\n",
    "\n",
    "f.close()"
   ]
  },
  {
   "cell_type": "code",
   "execution_count": 46,
   "id": "0db37ba7",
   "metadata": {},
   "outputs": [
    {
     "name": "stdout",
     "output_type": "stream",
     "text": [
      "hello how are you \n"
     ]
    }
   ],
   "source": [
    "with open(\"file.txt\") as f:\n",
    "    print(f.read())\n"
   ]
  },
  {
   "cell_type": "code",
   "execution_count": 56,
   "id": "cb807703",
   "metadata": {},
   "outputs": [
    {
     "name": "stdout",
     "output_type": "stream",
     "text": [
      "twinke is present\n",
      "twinke twinke little star kaise ho mere\n",
      "bhi log yaaaaaaaaar\n",
      "bye bye!\n"
     ]
    }
   ],
   "source": [
    "#1\n",
    "f=open(\"pomes.txt\") \n",
    "c=f.read()\n",
    "if(\"twinke\" in c):\n",
    "    print(\"twinke is present\")\n",
    "else:\n",
    "    print(\"not present\")\n",
    "    \n",
    "    \n",
    "print(c)"
   ]
  },
  {
   "cell_type": "code",
   "execution_count": 12,
   "id": "0c5079c0",
   "metadata": {},
   "outputs": [
    {
     "name": "stdout",
     "output_type": "stream",
     "text": [
      "you are playing...\n",
      "your score is:87\n"
     ]
    },
    {
     "data": {
      "text/plain": [
       "87"
      ]
     },
     "execution_count": 12,
     "metadata": {},
     "output_type": "execute_result"
    }
   ],
   "source": [
    "#2\n",
    "import random\n",
    "def game():\n",
    "    print(\"you are playing...\")\n",
    "    yourscore=random.randint(1,100)\n",
    "    with open(\"hiscore.txt\") as f:\n",
    "        hiscore=f.read()\n",
    "        if(hiscore!=0):\n",
    "            hiscore=int(hiscore)\n",
    "        else:\n",
    "            hiscore=0\n",
    "\n",
    "    print(f\"your score is:{yourscore}\")\n",
    "    if(yourscore>int(hiscore) or hiscore==\"\"):\n",
    "        with open (\"hiscore.txt\",\"w\") as f:\n",
    "            f.write(str(yourscore))\n",
    "    return yourscore\n",
    "\n",
    "\n",
    "game()"
   ]
  },
  {
   "cell_type": "code",
   "execution_count": 11,
   "id": "879e917d",
   "metadata": {},
   "outputs": [
    {
     "name": "stdout",
     "output_type": "stream",
     "text": [
      "You are playing the game..\n",
      "Your score: 43\n"
     ]
    },
    {
     "data": {
      "text/plain": [
       "43"
      ]
     },
     "execution_count": 11,
     "metadata": {},
     "output_type": "execute_result"
    }
   ],
   "source": [
    "import random\n",
    "\n",
    "def game(): \n",
    "    print(\"You are playing the game..\")\n",
    "    score = random.randint(1, 62)\n",
    "    # Fetch the hiscore\n",
    "    with open(\"hiscore.txt\") as f:\n",
    "        hiscore = f.read()\n",
    "        if(hiscore!=\"\"):\n",
    "            hiscore = int(hiscore)\n",
    "        else:\n",
    "            hiscore = 0\n",
    "\n",
    "    print(f\"Your score: {score}\")\n",
    "    if(score>hiscore):\n",
    "        # write this hiscore to the file\n",
    "        with open(\"hiscore.txt\", \"w\") as f:\n",
    "            f.write(str(score))\n",
    "\n",
    "    return score\n",
    "\n",
    "game()"
   ]
  },
  {
   "cell_type": "code",
   "execution_count": 22,
   "id": "01448dda",
   "metadata": {},
   "outputs": [],
   "source": [
    "def generate_table(n):\n",
    "    table=\"\"\n",
    "    for i in range(1,11):\n",
    "        table+=(f\"{n}X{i}={n*i}\\n\")\n",
    "    with open(f\"tables/table{n}.txt\",\"w\") as f:\n",
    "                f.write(table)\n",
    "                \n",
    "\n",
    "                \n",
    "for i in range(2,21):\n",
    "    generate_table(i)\n",
    "        \n",
    "                \n",
    "                \n",
    "\n",
    "        "
   ]
  },
  {
   "cell_type": "code",
   "execution_count": 21,
   "id": "c56d2c94",
   "metadata": {},
   "outputs": [],
   "source": [
    "#3\n",
    "def generateTable(n):\n",
    "    table = \"\"\n",
    "    for i in range(1, 11):\n",
    "        table += f\"{n} X {i} = {n*i}\\n\"\n",
    "    \n",
    "    with open(f\"tables/table_{n}.txt\", \"w\") as f:\n",
    "        f.write(table)\n",
    "\n",
    "\n",
    "\n",
    "\n",
    "for i in range(2, 21):\n",
    "    generateTable(i)"
   ]
  },
  {
   "cell_type": "code",
   "execution_count": 2,
   "id": "cfd40534",
   "metadata": {},
   "outputs": [],
   "source": [
    "#4\n",
    "with open(\"file.txt\") as f:\n",
    "    content=f.read()\n",
    "    \n",
    "    content=content.replace(\"donkey\",\"#######\")\n",
    "    \n",
    "    with open(\"file.txt\",\"w\") as f:\n",
    "        f.write(content)\n",
    "        \n",
    "    \n",
    "    "
   ]
  },
  {
   "cell_type": "code",
   "execution_count": 19,
   "id": "fd1f039d",
   "metadata": {},
   "outputs": [],
   "source": [
    "#5\n",
    "s=[\"donkey\",\"monkey\",\"animals\"]\n",
    "with open(\"file.txt\") as f:\n",
    "    content=f.read()\n",
    "    for word in s:\n",
    "        \n",
    "        content=content.replace(word,\"#\"*len(word))\n",
    "    \n",
    "    with open(\"file.txt\",\"w\") as f:\n",
    "        f.write(content)\n",
    "        "
   ]
  },
  {
   "cell_type": "code",
   "execution_count": 28,
   "id": "71c5d85a",
   "metadata": {},
   "outputs": [
    {
     "name": "stdout",
     "output_type": "stream",
     "text": [
      "python is present. in line: 1\n"
     ]
    }
   ],
   "source": [
    "#6\n",
    "with open(\"log.txt\") as f:\n",
    "    content = f.read()\n",
    "\n",
    "if(\"python\" in content):\n",
    "    print(\"Yes python is present\")\n",
    "else:\n",
    "    print(\"No Python is not present\")\n",
    "    \n",
    "    "
   ]
  },
  {
   "cell_type": "code",
   "execution_count": 26,
   "id": "4adc344b",
   "metadata": {},
   "outputs": [
    {
     "name": "stdout",
     "output_type": "stream",
     "text": [
      "Yes python is present. Line no: 1\n"
     ]
    }
   ],
   "source": [
    "#7\n",
    "with open(\"log.txt\") as f:\n",
    "    lines = f.readlines()\n",
    "\n",
    "lineno = 1\n",
    "for line in lines:\n",
    "    if(\"Python\" in line):\n",
    "        print(f\"Yes python is present. Line no: {lineno}\")\n",
    "        break\n",
    "    lineno += 1\n",
    "\n",
    "else:\n",
    "    print(\"No Python is not present\")"
   ]
  },
  {
   "cell_type": "code",
   "execution_count": 34,
   "id": "24f77478",
   "metadata": {},
   "outputs": [
    {
     "name": "stdout",
     "output_type": "stream",
     "text": [
      "identical\n"
     ]
    }
   ],
   "source": [
    "with open(\"log.txt\") as f1:\n",
    "    content1=f1.read()\n",
    "    \n",
    "with open(\"log2.txt\") as f:\n",
    "    content2=f.read()\n",
    "    \n",
    "if(content1==content2):\n",
    "    print(\"identical\")\n",
    "else:\n",
    "    print(\"not identical\")"
   ]
  },
  {
   "cell_type": "code",
   "execution_count": 36,
   "id": "fb1238f3",
   "metadata": {},
   "outputs": [],
   "source": [
    "# 10\n",
    "with open(\"file.txt\",\"w\") as f:\n",
    "    content=f.write(\"\")"
   ]
  },
  {
   "cell_type": "markdown",
   "id": "5442946f",
   "metadata": {},
   "source": [
    "### object oriented programming"
   ]
  },
  {
   "cell_type": "code",
   "execution_count": 46,
   "id": "7d627b2d",
   "metadata": {},
   "outputs": [
    {
     "name": "stdout",
     "output_type": "stream",
     "text": [
      "harry Py 1200000\n"
     ]
    }
   ],
   "source": [
    "class Employee:\n",
    "    name=\"harry\"\n",
    "    language = \"Py\" # This is a class attribute\n",
    "    salary = 1200000\n",
    "\n",
    "\n",
    "harry = Employee()\n",
    "\n",
    "print(harry.name, harry.language, harry.salary)"
   ]
  },
  {
   "cell_type": "code",
   "execution_count": 79,
   "id": "44f332ff",
   "metadata": {},
   "outputs": [
    {
     "name": "stdout",
     "output_type": "stream",
     "text": [
      "Harry Py 1200000\n",
      "Rohan Roro Robinson 1200000 Py\n"
     ]
    }
   ],
   "source": [
    "class Employee: \n",
    "    language = \"Py\" # This is a class attribute\n",
    "    salary = 1200000\n",
    "\n",
    "\n",
    "harry = Employee()\n",
    "harry.name = \"Harry\" # This is an instance attribute\n",
    "print(harry.name, harry.language, harry.salary)\n",
    "\n",
    "rohan = Employee()\n",
    "rohan.name = \"Rohan Roro Robinson\"\n",
    "print(rohan.name, rohan.salary, rohan.language)\n",
    "\n",
    "\n",
    "\n",
    "\n",
    "# Here name is instance attribute and salary and language are class attributes as they directly belong to the class"
   ]
  },
  {
   "cell_type": "code",
   "execution_count": 78,
   "id": "19450ff1",
   "metadata": {},
   "outputs": [
    {
     "name": "stdout",
     "output_type": "stream",
     "text": [
      "the language is:Py \n",
      "and the salary is:1200000\n",
      "good morning\n"
     ]
    }
   ],
   "source": [
    "class Employee: \n",
    "    language = \"Py\" # This is a class attribute\n",
    "    salary = 1200000\n",
    "\n",
    "\n",
    "\n",
    " \n",
    "    def getinfo(self):\n",
    "        print(f\"the language is:{self.language} \\nand the salary is:{self.salary}\")\n",
    "    @staticmethod\n",
    "    def greet():\n",
    "        print(\"good morning\")\n",
    "        \n",
    "        \n",
    "harry = Employee()\n",
    "harry.name = \"Harry\" # This is an instance attribute    \n",
    "harry.getinfo() \n",
    "harry.greet()\n",
    "#Employee.getinfo(harry)"
   ]
  },
  {
   "cell_type": "code",
   "execution_count": 134,
   "id": "a708ffc3",
   "metadata": {},
   "outputs": [
    {
     "name": "stdout",
     "output_type": "stream",
     "text": [
      "i am creating an object\n",
      "harry 45700 py\n"
     ]
    }
   ],
   "source": [
    "class Employee: \n",
    "    name=\"harshit\"\n",
    "    language = \"Py\" # This is a class attribute\n",
    "    salary = 1200000\n",
    "#     \n",
    "#         \n",
    "    def __init__(self,name,salary,language):#dunder method autometically called\n",
    "        \n",
    "        self.name=name\n",
    "        self.salary=salary\n",
    "        self.language=language\n",
    "        print(\"i am creating an object\")\n",
    "\n",
    "\n",
    "\n",
    " \n",
    "#     def getinfo(self):\n",
    "#         print(f\"the language is:{self.language} \\nand the salary is:{self.salary}\")\n",
    "#     @staticmethod\n",
    "#     def greet():\n",
    "#         print(\"good morning\")\n",
    "        \n",
    "        \n",
    "# harry = Employee()\n",
    "# harry=Employee(\"harshit\",4500,\"ku\")\n",
    "# print(harry.name,harry.salary,harry.language)\n",
    "\n",
    "\n",
    "\n",
    "\n",
    " \n",
    "   \n",
    "        \n",
    "        \n",
    "# harry = Employee()\n",
    "# harry=Employee(\"harshit\",4500,\"ku\")\n",
    "# print(harry.name,harry.salary,harry.language)\n",
    "\n",
    "# harry.name = \"Harry\" # This is an instance attribute    \n",
    "# harry.getinfo() # Employee.getinfo(harry)\n",
    "# harry.greet()\n",
    "\n",
    "\n",
    "\n",
    "# harshit=Employee(\"harshit\",4500,\"ku\")\n",
    "# print(harshit.name,harshit.salary,harshit.language)\n",
    "\n",
    "harry=Employee(\"harry\",45700,\"py\")\n",
    "print(harry.name,harry.salary,harry.language)\n",
    "\n"
   ]
  },
  {
   "cell_type": "markdown",
   "id": "3ea02fe7",
   "metadata": {},
   "source": [
    "## oops practice questions"
   ]
  },
  {
   "cell_type": "code",
   "execution_count": 103,
   "id": "78ef962d",
   "metadata": {},
   "outputs": [
    {
     "name": "stdout",
     "output_type": "stream",
     "text": [
      "harshit 1500000 Microsoft python\n"
     ]
    }
   ],
   "source": [
    "#1\n",
    "class programmer:\n",
    "    company=\"Microsoft\"\n",
    "    def __init__(self,name,salary,language):\n",
    "        self.name=name\n",
    "        self.salary=salary\n",
    "        self.language=language\n",
    "\n",
    "p=programmer(\"harshit\",1500000,\"python\")        \n",
    "\n",
    "print(p.name,p.salary,p.company,p.language)        "
   ]
  },
  {
   "cell_type": "code",
   "execution_count": 104,
   "id": "c5f8daaa",
   "metadata": {},
   "outputs": [
    {
     "name": "stdout",
     "output_type": "stream",
     "text": [
      "The square is 16\n",
      "The cube is 64\n",
      "The squareroot is 2.0\n"
     ]
    }
   ],
   "source": [
    "#2\n",
    "class Calculator:\n",
    "    def __init__(self, n):\n",
    "        self.n = n \n",
    "    \n",
    "    def square(self):\n",
    "        print(f\"The square is {self.n*self.n}\")\n",
    "\n",
    "    def cube(self):\n",
    "        print(f\"The cube is {self.n*self.n*self.n}\")\n",
    "\n",
    "    def squareroot(self):\n",
    "        print(f\"The squareroot is {self.n**1/2}\")\n",
    "\n",
    "a = Calculator(4)\n",
    "a.square()\n",
    "a.cube()\n",
    "a.squareroot()"
   ]
  },
  {
   "cell_type": "code",
   "execution_count": 117,
   "id": "f72e24ea",
   "metadata": {},
   "outputs": [
    {
     "name": "stdout",
     "output_type": "stream",
     "text": [
      "ticket is book in trian number:12345 from rampur to delhi\n"
     ]
    }
   ],
   "source": [
    "#3\n",
    "from random import randint# import random \n",
    "\n",
    "class train:\n",
    "    def __init__(self,trainno):\n",
    "        self.trainno=trainno\n",
    "    \n",
    "    def book(self,fro,to):\n",
    "        print(f\"ticket is book in trian number:{self.trainno} from {fro} to {to}\")\n",
    "        \n",
    "    def getstatus(self):\n",
    "         print(f\"Train no: {self.trainNo} is running on time\")\n",
    "    \n",
    "    def getfare(self,fro,to):\n",
    "        print(f\"ticket is bookfair in trian number:{self.trainno} from {fro} to {to} is : {random.randint(1,999)}\")\n",
    "        \n",
    "        \n",
    "        \n",
    "t=train(12345)\n",
    "t.book(\"rampur\",\"delhi\")"
   ]
  },
  {
   "cell_type": "markdown",
   "id": "217c50ba",
   "metadata": {},
   "source": [
    "## inheritance"
   ]
  },
  {
   "cell_type": "code",
   "execution_count": 138,
   "id": "fbbb219a",
   "metadata": {},
   "outputs": [
    {
     "name": "stdout",
     "output_type": "stream",
     "text": [
      "itc itc info tech\n"
     ]
    }
   ],
   "source": [
    "class employee:\n",
    "    company=\"itc\"\n",
    "    def shoe(self):\n",
    "        print(f\"my name is {self.name}and salary is {self.salary}\") \n",
    "        \n",
    "# class programmer:\n",
    "#     company=\"itc info tech\"\n",
    "#     def show(self):\n",
    "#         print(f\"my name is {self.name}and salary is {self.salary}\") \n",
    "        \n",
    "        \n",
    "#     def showlanguage(self):\n",
    "#         print(f\"my name is {self.name}and salary is {self.salary}and he is good in {self.language}\")\n",
    "        \n",
    "a=employee\n",
    "b=programmer\n",
    "print(a.company,b.company)\n",
    "                "
   ]
  },
  {
   "cell_type": "code",
   "execution_count": 143,
   "id": "97c4e94c",
   "metadata": {},
   "outputs": [
    {
     "name": "stdout",
     "output_type": "stream",
     "text": [
      "itc itc info tech\n"
     ]
    }
   ],
   "source": [
    "class programmers(employee):\n",
    "    company=\"itc infotech\"\n",
    "    \n",
    "           \n",
    "    def showlanguage(self):\n",
    "        print(f\"my name is {self.name}and salary is {self.salary}and he is good in {self.language}\")\n",
    "        \n",
    "\n",
    "\n",
    "a=employee\n",
    "b=programmer\n",
    "print(a.company,b.company)    "
   ]
  },
  {
   "cell_type": "code",
   "execution_count": 158,
   "id": "14d6ee02",
   "metadata": {},
   "outputs": [
    {
     "name": "stdout",
     "output_type": "stream",
     "text": [
      "my name is itc info techand salary is 12345678\n",
      "out of all the languages your languaue is:python\n",
      "my name is itc info techand salary is 12345678\n"
     ]
    }
   ],
   "source": [
    "# multiple inheritance\n",
    "class employee:\n",
    "    company=\"itc\"\n",
    "    salary=12345678\n",
    "    def show(self):\n",
    "        print(f\"my name is {self.company} and salary is {self.salary}\") \n",
    "        \n",
    "class coder:\n",
    "    language=\"python\"\n",
    "    def printlanguage(self):\n",
    "        print(f\"out of all the languages your languaue is:{self.language}\")\n",
    "        \n",
    "class programer(employee,coder):\n",
    "    company=\"itc info tech\"\n",
    "    def showlanguage(self):\n",
    "        print(f\"my name is {self.company} and salary is {self.salary}\")\n",
    "        \n",
    "        \n",
    "a=employee()\n",
    "b=programer() \n",
    "\n",
    "b.show()\n",
    "b.printlanguage()\n",
    "b.showlanguage()\n",
    "\n",
    "    \n",
    "        "
   ]
  },
  {
   "cell_type": "code",
   "execution_count": 153,
   "id": "abf46bd1",
   "metadata": {},
   "outputs": [
    {
     "name": "stdout",
     "output_type": "stream",
     "text": [
      "The name of the Employee is Default name and the company is ITC Infotech\n",
      "Out of all the languages here is your language: Python\n",
      "The name is ITC Infotech and he is good with Python language\n"
     ]
    }
   ],
   "source": [
    "class Employee:\n",
    "    company = \"ITC\"\n",
    "    name = \"Default name\"\n",
    "    def show(self):\n",
    "        print(f\"The name of the Employee is {self.name} and the company is {self.company}\")\n",
    "\n",
    "class Coder:\n",
    "    language = \"Python\"\n",
    "    def printLanguages(self):\n",
    "        print(f\"Out of all the languages here is your language: {self.language}\")\n",
    "     \n",
    "\n",
    "\n",
    "class Programmer(Employee, Coder):\n",
    "    company = \"ITC Infotech\"\n",
    "    def showLanguage(self):\n",
    "        print(f\"The name is {self.company} and he is good with {self.language} language\")\n",
    "\n",
    "\n",
    "a = Employee()\n",
    "b = Programmer()\n",
    "\n",
    "b.show()\n",
    "b.printLanguages()\n",
    "b.showLanguage()"
   ]
  },
  {
   "cell_type": "code",
   "execution_count": null,
   "id": "96515504",
   "metadata": {},
   "outputs": [],
   "source": [
    "class Employee:\n",
    "    a = 1 \n",
    "\n",
    "class Programmer(Employee):\n",
    "    b = 2 \n",
    "\n",
    "class Manager(Programmer):\n",
    "    c = 3\n",
    "\n",
    "o = Employee()\n",
    "print(o.a) # Prints the a attribute\n",
    "# print(o.b) # Shows an error as there is no b attribute in Employee class\n",
    "\n",
    "o = Programmer()\n",
    "print(o.a, o.b)\n",
    "\n",
    "\n",
    "o = Manager()\n",
    "print(o.a, o.b, o.c)"
   ]
  }
 ],
 "metadata": {
  "kernelspec": {
   "display_name": "Python 3 (ipykernel)",
   "language": "python",
   "name": "python3"
  },
  "language_info": {
   "codemirror_mode": {
    "name": "ipython",
    "version": 3
   },
   "file_extension": ".py",
   "mimetype": "text/x-python",
   "name": "python",
   "nbconvert_exporter": "python",
   "pygments_lexer": "ipython3",
   "version": "3.11.5"
  }
 },
 "nbformat": 4,
 "nbformat_minor": 5
}
